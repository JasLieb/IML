{
  "nbformat": 4,
  "nbformat_minor": 0,
  "metadata": {
    "kernelspec": {
      "display_name": "Python 3",
      "language": "python",
      "name": "python3"
    },
    "language_info": {
      "codemirror_mode": {
        "name": "ipython",
        "version": 3
      },
      "file_extension": ".py",
      "mimetype": "text/x-python",
      "name": "python",
      "nbconvert_exporter": "python",
      "pygments_lexer": "ipython3",
      "version": "3.6.3"
    },
    "colab": {
      "name": "exercise_4.ipynb",
      "provenance": [],
      "toc_visible": true
    }
  },
  "cells": [
    {
      "cell_type": "markdown",
      "metadata": {
        "id": "ko2_Cjel-muU",
        "colab_type": "text"
      },
      "source": [
        "# Exercice 4 : Combien de clusters?\n",
        "\n",
        "\n",
        "Considérons le dendogramme ci-dessous, il correspond au résultat produit par la méthode hiérarchique appliquée au jeu de données sur les graines.\n",
        "\n",
        "**Question:** Si la méthode de clustering est arrêtée à la hauteur 6 du dendogramme,  combien y aurait-il de clusters ?\n",
        "\n",
        "**Indice:** Imaginez une ligne horizontale à cette hauteur."
      ]
    },
    {
      "cell_type": "code",
      "metadata": {
        "exercise": false,
        "retain_output": true,
        "id": "OW6eG4LG-muW",
        "colab_type": "code",
        "colab": {
          "base_uri": "https://localhost:8080/",
          "height": 306
        },
        "outputId": "85e7d64b-5763-4df2-a512-80ce49ec9c77"
      },
      "source": [
        "import pandas as pd\n",
        "\n",
        "seeds_df = pd.read_csv('seeds-less-rows.csv')\n",
        "\n",
        "varieties = list(seeds_df.pop('grain_variety'))\n",
        "\n",
        "samples = seeds_df.values\n",
        "\n",
        "from scipy.cluster.hierarchy import linkage, dendrogram\n",
        "import matplotlib.pyplot as plt\n",
        "\n",
        "mergings = linkage(samples, method='complete')\n",
        "\n",
        "dendrogram(mergings, \n",
        "           labels=varieties,\n",
        "           leaf_rotation=90,\n",
        "           leaf_font_size=6,\n",
        "\n",
        ")\n",
        "plt.show()"
      ],
      "execution_count": 3,
      "outputs": [
        {
          "output_type": "display_data",
          "data": {
            "image/png": "[encoded data removed]",
            "text/plain": [
              "<Figure size 432x288 with 1 Axes>"
            ]
          },
          "metadata": {
            "tags": []
          }
        }
      ]
    },
    {
      "cell_type": "markdown",
      "metadata": {
        "id": "A8ej2iom-mue",
        "colab_type": "text"
      },
      "source": [
        "### Réponse"
      ]
    },
    {
      "cell_type": "code",
      "metadata": {
        "id": "XRrD2NQt-muh",
        "colab_type": "code",
        "colab": {
          "base_uri": "https://localhost:8080/",
          "height": 306
        },
        "outputId": "bc7ab9c4-18d9-41a8-c1bf-c9ca25b1a64a"
      },
      "source": [
        "dendrogram(mergings, labels=varieties, leaf_rotation=90, leaf_font_size=6)\n",
        "plt.axhline(y=6, c='y')\n",
        "plt.show()"
      ],
      "execution_count": 7,
      "outputs": [
        {
          "output_type": "display_data",
          "data": {
            "image/png": "[encoded data removed]",
            "text/plain": [
              "<Figure size 432x288 with 1 Axes>"
            ]
          },
          "metadata": {
            "tags": []
          }
        }
      ]
    },
    {
      "cell_type": "markdown",
      "metadata": {
        "id": "KHPdYGZqegjN",
        "colab_type": "text"
      },
      "source": [
        "### Si cette méthode s'arrête à la hauteur 6, nous arons 3 clusters"
      ]
    }
  ]
}