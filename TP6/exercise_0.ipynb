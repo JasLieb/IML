{
  "nbformat": 4,
  "nbformat_minor": 0,
  "metadata": {
    "kernelspec": {
      "display_name": "Python 3",
      "language": "python",
      "name": "python3"
    },
    "language_info": {
      "codemirror_mode": {
        "name": "ipython",
        "version": 3
      },
      "file_extension": ".py",
      "mimetype": "text/x-python",
      "name": "python",
      "nbconvert_exporter": "python",
      "pygments_lexer": "ipython3",
      "version": "3.7.6"
    },
    "colab": {
      "name": "exercise_0.ipynb",
      "provenance": [],
      "toc_visible": true
    }
  },
  "cells": [
    {
      "cell_type": "markdown",
      "metadata": {
        "id": "JZPLAb5c-kSA",
        "colab_type": "text"
      },
      "source": [
        "# Exercice réalisé par \n",
        "- Jason Liebault\n",
        "- Matthieu Ryckman\n",
        "\n"
      ]
    },
    {
      "cell_type": "markdown",
      "metadata": {
        "id": "QShx1BOX-kSB",
        "colab_type": "text"
      },
      "source": [
        "**Etape 1:** Chargement des données"
      ]
    },
    {
      "cell_type": "code",
      "metadata": {
        "exercise": false,
        "id": "XY59qKk1-kSD",
        "colab_type": "code",
        "colab": {}
      },
      "source": [
        "import pandas as pd\n",
        "\n",
        "seeds_df = pd.read_csv('seeds-less-rows.csv')\n",
        "\n",
        "varieties = list(seeds_df.pop('grain_variety'))\n",
        "\n",
        "samples = seeds_df.values"
      ],
      "execution_count": 0,
      "outputs": []
    },
    {
      "cell_type": "markdown",
      "metadata": {
        "id": "QmCnlLZY-kSL",
        "colab_type": "text"
      },
      "source": [
        "**Etape 2:** Effectuer les iportations suivantes necessaires à l'ALGO CAH:\n",
        "\n",
        " + `linkage` and `dendrogram` from `scipy.cluster.hierarchy`.\n",
        " + `matplotlib.pyplot` as `plt`."
      ]
    },
    {
      "cell_type": "code",
      "metadata": {
        "id": "BxweQFLm-kSM",
        "colab_type": "code",
        "colab": {}
      },
      "source": [
        "from scipy.cluster.hierarchy import linkage, dendrogram\n",
        "import matplotlib.pyplot as plt\n"
      ],
      "execution_count": 0,
      "outputs": []
    },
    {
      "cell_type": "markdown",
      "metadata": {
        "id": "ZI0kliUa-kSQ",
        "colab_type": "text"
      },
      "source": [
        "**ETAPE 3:** Appliquer l'algorithme CAH sur le jeu de données `samples` en utilisant la fonction `linkage()` \n",
        "avec la méthode  `method='complete'` les noms des arguments. Assigner le resultat à la variable `mergings`."
      ]
    },
    {
      "cell_type": "code",
      "metadata": {
        "id": "LbxiFpHu-kSR",
        "colab_type": "code",
        "colab": {
          "base_uri": "https://localhost:8080/",
          "height": 770
        },
        "outputId": "724b6924-d107-462f-c3c9-7b246c7602a6"
      },
      "source": [
        "mergings = linkage(samples, method=\"complete\")\n",
        "mergings"
      ],
      "execution_count": 4,
      "outputs": [
        {
          "output_type": "execute_result",
          "data": {
            "text/plain": [
              "array([[33.        , 36.        ,  0.27162909,  2.        ],\n",
              "       [21.        , 26.        ,  0.31365739,  2.        ],\n",
              "       [18.        , 43.        ,  0.32846589,  3.        ],\n",
              "       [38.        , 41.        ,  0.34657328,  2.        ],\n",
              "       [19.        , 22.        ,  0.37233454,  2.        ],\n",
              "       [15.        , 27.        ,  0.38916958,  2.        ],\n",
              "       [ 4.        , 11.        ,  0.48519909,  2.        ],\n",
              "       [ 2.        , 13.        ,  0.60220511,  2.        ],\n",
              "       [23.        , 25.        ,  0.64447995,  2.        ],\n",
              "       [ 0.        ,  9.        ,  0.66671658,  2.        ],\n",
              "       [32.        , 37.        ,  0.68359363,  2.        ],\n",
              "       [39.        , 42.        ,  0.75541297,  3.        ],\n",
              "       [12.        , 29.        ,  0.76129577,  2.        ],\n",
              "       [30.        , 34.        ,  0.79066703,  2.        ],\n",
              "       [24.        , 47.        ,  0.89015184,  3.        ],\n",
              "       [ 1.        ,  6.        ,  0.96077742,  2.        ],\n",
              "       [31.        , 45.        ,  0.98956619,  3.        ],\n",
              "       [16.        , 50.        ,  1.05891757,  3.        ],\n",
              "       [17.        , 20.        ,  1.11543099,  2.        ],\n",
              "       [ 8.        , 40.        ,  1.13733735,  2.        ],\n",
              "       [44.        , 46.        ,  1.1662041 ,  5.        ],\n",
              "       [ 5.        , 61.        ,  1.28676337,  3.        ],\n",
              "       [35.        , 52.        ,  1.37690488,  3.        ],\n",
              "       [48.        , 49.        ,  1.52865125,  4.        ],\n",
              "       [53.        , 64.        ,  1.66517195,  6.        ],\n",
              "       [14.        , 56.        ,  1.74234784,  4.        ],\n",
              "       [51.        , 65.        ,  1.91015424,  6.        ],\n",
              "       [ 7.        , 57.        ,  1.91749035,  3.        ],\n",
              "       [28.        , 55.        ,  2.08980038,  3.        ],\n",
              "       [54.        , 58.        ,  2.13385537,  5.        ],\n",
              "       [ 3.        , 10.        ,  2.22187038,  2.        ],\n",
              "       [59.        , 67.        ,  2.31852251,  7.        ],\n",
              "       [60.        , 62.        ,  2.33686195,  7.        ],\n",
              "       [68.        , 69.        ,  2.76779035,  9.        ],\n",
              "       [66.        , 70.        ,  3.13448417,  9.        ],\n",
              "       [63.        , 71.        ,  3.25744652,  8.        ],\n",
              "       [73.        , 74.        ,  3.71580316, 14.        ],\n",
              "       [72.        , 75.        ,  4.68116988, 11.        ],\n",
              "       [76.        , 77.        ,  5.45789312, 17.        ],\n",
              "       [78.        , 79.        ,  6.74608427, 25.        ],\n",
              "       [80.        , 81.        ,  9.61230238, 42.        ]])"
            ]
          },
          "metadata": {
            "tags": []
          },
          "execution_count": 4
        }
      ]
    },
    {
      "cell_type": "markdown",
      "metadata": {
        "id": "nfXcCwq8-kSW",
        "colab_type": "text"
      },
      "source": [
        "**Step 4:** Tracez un dendrogramme à l'aide de la fonction dendrogram ()` function on `mergings`, spécifiez les mos clès `labels=varieties`, `leaf_rotation=90`, ET `leaf_font_size=6`.  Affichez tout via `plt.show()` ."
      ]
    },
    {
      "cell_type": "code",
      "metadata": {
        "id": "zhHojgsk-kSX",
        "colab_type": "code",
        "colab": {
          "base_uri": "https://localhost:8080/",
          "height": 306
        },
        "outputId": "f7158076-628e-4c5e-87eb-ad6b2471d26e"
      },
      "source": [
        "dendrogram(mergings, labels=varieties, leaf_rotation=90, leaf_font_size=6)\n",
        "plt.show()"
      ],
      "execution_count": 5,
      "outputs": [
        {
          "output_type": "display_data",
          "data": {
            "image/png": "[encoded data removed]",
            "text/plain": [
              "<Figure size 432x288 with 1 Axes>"
            ]
          },
          "metadata": {
            "tags": []
          }
        }
      ]
    }
  ]
}