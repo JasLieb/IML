{
  "nbformat": 4,
  "nbformat_minor": 0,
  "metadata": {
    "kernelspec": {
      "display_name": "Python 3",
      "language": "python",
      "name": "python3"
    },
    "language_info": {
      "codemirror_mode": {
        "name": "ipython",
        "version": 3
      },
      "file_extension": ".py",
      "mimetype": "text/x-python",
      "name": "python",
      "nbconvert_exporter": "python",
      "pygments_lexer": "ipython3",
      "version": "3.7.6"
    },
    "colab": {
      "name": "exercise_5.ipynb",
      "provenance": [],
      "toc_visible": true
    }
  },
  "cells": [
    {
      "cell_type": "markdown",
      "metadata": {
        "id": "6pM1Co0G-nao",
        "colab_type": "text"
      },
      "source": [
        "# Exercise 15: Extraction  des labels de cluster "
      ]
    },
    {
      "cell_type": "markdown",
      "metadata": {
        "id": "f5sMwfNj-nap",
        "colab_type": "text"
      },
      "source": [
        ""
      ]
    },
    {
      "cell_type": "markdown",
      "metadata": {
        "id": "GYNoF6FO-nar",
        "colab_type": "text"
      },
      "source": [
        "**Step 1:** Chargement des données"
      ]
    },
    {
      "cell_type": "code",
      "metadata": {
        "exercise": false,
        "id": "57m7PV-L-nar",
        "colab_type": "code",
        "colab": {}
      },
      "source": [
        "import pandas as pd\n",
        "import numpy as np\n",
        "\n",
        "seeds_df = pd.read_csv('seeds-less-rows.csv')\n",
        "varieties = list(seeds_df.pop('grain_variety'))\n",
        "samples = seeds_df.values"
      ],
      "execution_count": 0,
      "outputs": []
    },
    {
      "cell_type": "markdown",
      "metadata": {
        "id": "QCUu1xhB-na0",
        "colab_type": "text"
      },
      "source": [
        "**Step 2:** Effectuer le CAH sur le jeu de données \n",
        "\n",
        "Coronavirus le fait pour vous"
      ]
    },
    {
      "cell_type": "code",
      "metadata": {
        "exercise": false,
        "retain_output": true,
        "id": "osUzKrTz-na0",
        "colab_type": "code",
        "colab": {
          "base_uri": "https://localhost:8080/",
          "height": 306
        },
        "outputId": "0a5565cf-d24a-44f9-db5a-621495e43857"
      },
      "source": [
        "from scipy.cluster.hierarchy import linkage, dendrogram\n",
        "import matplotlib.pyplot as plt\n",
        "\n",
        "mergings = linkage(samples, method='complete')\n",
        "\n",
        "dendrogram(mergings,\n",
        "           labels=varieties,\n",
        "           leaf_rotation=90,\n",
        "           leaf_font_size=6,\n",
        ")\n",
        "plt.show()"
      ],
      "execution_count": 8,
      "outputs": [
        {
          "output_type": "display_data",
          "data": {
            "image/png": "[encoded data removed]",
            "text/plain": [
              "<Figure size 432x288 with 1 Axes>"
            ]
          },
          "metadata": {
            "tags": []
          }
        }
      ]
    },
    {
      "cell_type": "markdown",
      "metadata": {
        "id": "eFA_rZYD-na6",
        "colab_type": "text"
      },
      "source": [
        "**Etape 3:** Importer `fcluster` from `scipy.cluster.hierarchy`."
      ]
    },
    {
      "cell_type": "code",
      "metadata": {
        "id": "MBqW3-Hw-na7",
        "colab_type": "code",
        "colab": {}
      },
      "source": [
        "from scipy.cluster.hierarchy import fcluster"
      ],
      "execution_count": 0,
      "outputs": []
    },
    {
      "cell_type": "markdown",
      "metadata": {
        "id": "xkHsUjaf-na_",
        "colab_type": "text"
      },
      "source": [
        "**Etape 4:** Effectuer un clustering plat (flat clustering ) \n",
        "spécifiez une hauteur maximale de '6' avec les arguments `criterion='distance'`\n",
        "Affecter le resulats à `labels`"
      ]
    },
    {
      "cell_type": "code",
      "metadata": {
        "id": "ccCosRgS-nbA",
        "colab_type": "code",
        "colab": {
          "base_uri": "https://localhost:8080/",
          "height": 293
        },
        "outputId": "369cf306-8199-4eeb-8de3-161d1c4ba948"
      },
      "source": [
        "labels = fcluster(mergings, 6, criterion='distance')\n",
        "labels, np.array(varieties)"
      ],
      "execution_count": 15,
      "outputs": [
        {
          "output_type": "execute_result",
          "data": {
            "text/plain": [
              "(array([3, 3, 3, 3, 3, 1, 3, 3, 1, 3, 3, 3, 1, 3, 2, 2, 2, 2, 2, 2, 2, 2,\n",
              "        2, 2, 2, 2, 2, 2, 1, 1, 1, 1, 1, 1, 1, 1, 1, 1, 1, 1, 1, 1],\n",
              "       dtype=int32),\n",
              " array(['Kama wheat', 'Kama wheat', 'Kama wheat', 'Kama wheat',\n",
              "        'Kama wheat', 'Kama wheat', 'Kama wheat', 'Kama wheat',\n",
              "        'Kama wheat', 'Kama wheat', 'Kama wheat', 'Kama wheat',\n",
              "        'Kama wheat', 'Kama wheat', 'Rosa wheat', 'Rosa wheat',\n",
              "        'Rosa wheat', 'Rosa wheat', 'Rosa wheat', 'Rosa wheat',\n",
              "        'Rosa wheat', 'Rosa wheat', 'Rosa wheat', 'Rosa wheat',\n",
              "        'Rosa wheat', 'Rosa wheat', 'Rosa wheat', 'Rosa wheat',\n",
              "        'Canadian wheat', 'Canadian wheat', 'Canadian wheat',\n",
              "        'Canadian wheat', 'Canadian wheat', 'Canadian wheat',\n",
              "        'Canadian wheat', 'Canadian wheat', 'Canadian wheat',\n",
              "        'Canadian wheat', 'Canadian wheat', 'Canadian wheat',\n",
              "        'Canadian wheat', 'Canadian wheat'], dtype='<U14'))"
            ]
          },
          "metadata": {
            "tags": []
          },
          "execution_count": 15
        }
      ]
    },
    {
      "cell_type": "markdown",
      "metadata": {
        "id": "MSxgPIUt-nbE",
        "colab_type": "text"
      },
      "source": [
        "**Etape 5:** Creer un DataFrame `df` avec deux colonnes nommées `'labels'` et `'varieties'`.\n",
        "En utilisant `labels` Et `varieties`, repectivement, pour les valeurs de colonnees."
      ]
    },
    {
      "cell_type": "code",
      "metadata": {
        "id": "dfefy496-nbG",
        "colab_type": "code",
        "colab": {
          "base_uri": "https://localhost:8080/",
          "height": 1000
        },
        "outputId": "30c48100-58cb-415e-bb56-be444da89850"
      },
      "source": [
        "df = pd.DataFrame({'labels': labels, 'varieties': varieties}, columns=['labels', 'varieties'])\n",
        "df"
      ],
      "execution_count": 23,
      "outputs": [
        {
          "output_type": "execute_result",
          "data": {
            "text/html": [
              "<div>\n",
              "<style scoped>\n",
              "    .dataframe tbody tr th:only-of-type {\n",
              "        vertical-align: middle;\n",
              "    }\n",
              "\n",
              "    .dataframe tbody tr th {\n",
              "        vertical-align: top;\n",
              "    }\n",
              "\n",
              "    .dataframe thead th {\n",
              "        text-align: right;\n",
              "    }\n",
              "</style>\n",
              "<table border=\"1\" class=\"dataframe\">\n",
              "  <thead>\n",
              "    <tr style=\"text-align: right;\">\n",
              "      <th></th>\n",
              "      <th>labels</th>\n",
              "      <th>varieties</th>\n",
              "    </tr>\n",
              "  </thead>\n",
              "  <tbody>\n",
              "    <tr>\n",
              "      <th>0</th>\n",
              "      <td>3</td>\n",
              "      <td>Kama wheat</td>\n",
              "    </tr>\n",
              "    <tr>\n",
              "      <th>1</th>\n",
              "      <td>3</td>\n",
              "      <td>Kama wheat</td>\n",
              "    </tr>\n",
              "    <tr>\n",
              "      <th>2</th>\n",
              "      <td>3</td>\n",
              "      <td>Kama wheat</td>\n",
              "    </tr>\n",
              "    <tr>\n",
              "      <th>3</th>\n",
              "      <td>3</td>\n",
              "      <td>Kama wheat</td>\n",
              "    </tr>\n",
              "    <tr>\n",
              "      <th>4</th>\n",
              "      <td>3</td>\n",
              "      <td>Kama wheat</td>\n",
              "    </tr>\n",
              "    <tr>\n",
              "      <th>5</th>\n",
              "      <td>1</td>\n",
              "      <td>Kama wheat</td>\n",
              "    </tr>\n",
              "    <tr>\n",
              "      <th>6</th>\n",
              "      <td>3</td>\n",
              "      <td>Kama wheat</td>\n",
              "    </tr>\n",
              "    <tr>\n",
              "      <th>7</th>\n",
              "      <td>3</td>\n",
              "      <td>Kama wheat</td>\n",
              "    </tr>\n",
              "    <tr>\n",
              "      <th>8</th>\n",
              "      <td>1</td>\n",
              "      <td>Kama wheat</td>\n",
              "    </tr>\n",
              "    <tr>\n",
              "      <th>9</th>\n",
              "      <td>3</td>\n",
              "      <td>Kama wheat</td>\n",
              "    </tr>\n",
              "    <tr>\n",
              "      <th>10</th>\n",
              "      <td>3</td>\n",
              "      <td>Kama wheat</td>\n",
              "    </tr>\n",
              "    <tr>\n",
              "      <th>11</th>\n",
              "      <td>3</td>\n",
              "      <td>Kama wheat</td>\n",
              "    </tr>\n",
              "    <tr>\n",
              "      <th>12</th>\n",
              "      <td>1</td>\n",
              "      <td>Kama wheat</td>\n",
              "    </tr>\n",
              "    <tr>\n",
              "      <th>13</th>\n",
              "      <td>3</td>\n",
              "      <td>Kama wheat</td>\n",
              "    </tr>\n",
              "    <tr>\n",
              "      <th>14</th>\n",
              "      <td>2</td>\n",
              "      <td>Rosa wheat</td>\n",
              "    </tr>\n",
              "    <tr>\n",
              "      <th>15</th>\n",
              "      <td>2</td>\n",
              "      <td>Rosa wheat</td>\n",
              "    </tr>\n",
              "    <tr>\n",
              "      <th>16</th>\n",
              "      <td>2</td>\n",
              "      <td>Rosa wheat</td>\n",
              "    </tr>\n",
              "    <tr>\n",
              "      <th>17</th>\n",
              "      <td>2</td>\n",
              "      <td>Rosa wheat</td>\n",
              "    </tr>\n",
              "    <tr>\n",
              "      <th>18</th>\n",
              "      <td>2</td>\n",
              "      <td>Rosa wheat</td>\n",
              "    </tr>\n",
              "    <tr>\n",
              "      <th>19</th>\n",
              "      <td>2</td>\n",
              "      <td>Rosa wheat</td>\n",
              "    </tr>\n",
              "    <tr>\n",
              "      <th>20</th>\n",
              "      <td>2</td>\n",
              "      <td>Rosa wheat</td>\n",
              "    </tr>\n",
              "    <tr>\n",
              "      <th>21</th>\n",
              "      <td>2</td>\n",
              "      <td>Rosa wheat</td>\n",
              "    </tr>\n",
              "    <tr>\n",
              "      <th>22</th>\n",
              "      <td>2</td>\n",
              "      <td>Rosa wheat</td>\n",
              "    </tr>\n",
              "    <tr>\n",
              "      <th>23</th>\n",
              "      <td>2</td>\n",
              "      <td>Rosa wheat</td>\n",
              "    </tr>\n",
              "    <tr>\n",
              "      <th>24</th>\n",
              "      <td>2</td>\n",
              "      <td>Rosa wheat</td>\n",
              "    </tr>\n",
              "    <tr>\n",
              "      <th>25</th>\n",
              "      <td>2</td>\n",
              "      <td>Rosa wheat</td>\n",
              "    </tr>\n",
              "    <tr>\n",
              "      <th>26</th>\n",
              "      <td>2</td>\n",
              "      <td>Rosa wheat</td>\n",
              "    </tr>\n",
              "    <tr>\n",
              "      <th>27</th>\n",
              "      <td>2</td>\n",
              "      <td>Rosa wheat</td>\n",
              "    </tr>\n",
              "    <tr>\n",
              "      <th>28</th>\n",
              "      <td>1</td>\n",
              "      <td>Canadian wheat</td>\n",
              "    </tr>\n",
              "    <tr>\n",
              "      <th>29</th>\n",
              "      <td>1</td>\n",
              "      <td>Canadian wheat</td>\n",
              "    </tr>\n",
              "    <tr>\n",
              "      <th>30</th>\n",
              "      <td>1</td>\n",
              "      <td>Canadian wheat</td>\n",
              "    </tr>\n",
              "    <tr>\n",
              "      <th>31</th>\n",
              "      <td>1</td>\n",
              "      <td>Canadian wheat</td>\n",
              "    </tr>\n",
              "    <tr>\n",
              "      <th>32</th>\n",
              "      <td>1</td>\n",
              "      <td>Canadian wheat</td>\n",
              "    </tr>\n",
              "    <tr>\n",
              "      <th>33</th>\n",
              "      <td>1</td>\n",
              "      <td>Canadian wheat</td>\n",
              "    </tr>\n",
              "    <tr>\n",
              "      <th>34</th>\n",
              "      <td>1</td>\n",
              "      <td>Canadian wheat</td>\n",
              "    </tr>\n",
              "    <tr>\n",
              "      <th>35</th>\n",
              "      <td>1</td>\n",
              "      <td>Canadian wheat</td>\n",
              "    </tr>\n",
              "    <tr>\n",
              "      <th>36</th>\n",
              "      <td>1</td>\n",
              "      <td>Canadian wheat</td>\n",
              "    </tr>\n",
              "    <tr>\n",
              "      <th>37</th>\n",
              "      <td>1</td>\n",
              "      <td>Canadian wheat</td>\n",
              "    </tr>\n",
              "    <tr>\n",
              "      <th>38</th>\n",
              "      <td>1</td>\n",
              "      <td>Canadian wheat</td>\n",
              "    </tr>\n",
              "    <tr>\n",
              "      <th>39</th>\n",
              "      <td>1</td>\n",
              "      <td>Canadian wheat</td>\n",
              "    </tr>\n",
              "    <tr>\n",
              "      <th>40</th>\n",
              "      <td>1</td>\n",
              "      <td>Canadian wheat</td>\n",
              "    </tr>\n",
              "    <tr>\n",
              "      <th>41</th>\n",
              "      <td>1</td>\n",
              "      <td>Canadian wheat</td>\n",
              "    </tr>\n",
              "  </tbody>\n",
              "</table>\n",
              "</div>"
            ],
            "text/plain": [
              "    labels       varieties\n",
              "0        3      Kama wheat\n",
              "1        3      Kama wheat\n",
              "2        3      Kama wheat\n",
              "3        3      Kama wheat\n",
              "4        3      Kama wheat\n",
              "5        1      Kama wheat\n",
              "6        3      Kama wheat\n",
              "7        3      Kama wheat\n",
              "8        1      Kama wheat\n",
              "9        3      Kama wheat\n",
              "10       3      Kama wheat\n",
              "11       3      Kama wheat\n",
              "12       1      Kama wheat\n",
              "13       3      Kama wheat\n",
              "14       2      Rosa wheat\n",
              "15       2      Rosa wheat\n",
              "16       2      Rosa wheat\n",
              "17       2      Rosa wheat\n",
              "18       2      Rosa wheat\n",
              "19       2      Rosa wheat\n",
              "20       2      Rosa wheat\n",
              "21       2      Rosa wheat\n",
              "22       2      Rosa wheat\n",
              "23       2      Rosa wheat\n",
              "24       2      Rosa wheat\n",
              "25       2      Rosa wheat\n",
              "26       2      Rosa wheat\n",
              "27       2      Rosa wheat\n",
              "28       1  Canadian wheat\n",
              "29       1  Canadian wheat\n",
              "30       1  Canadian wheat\n",
              "31       1  Canadian wheat\n",
              "32       1  Canadian wheat\n",
              "33       1  Canadian wheat\n",
              "34       1  Canadian wheat\n",
              "35       1  Canadian wheat\n",
              "36       1  Canadian wheat\n",
              "37       1  Canadian wheat\n",
              "38       1  Canadian wheat\n",
              "39       1  Canadian wheat\n",
              "40       1  Canadian wheat\n",
              "41       1  Canadian wheat"
            ]
          },
          "metadata": {
            "tags": []
          },
          "execution_count": 23
        }
      ]
    },
    {
      "cell_type": "markdown",
      "metadata": {
        "id": "0XYe1ypO-nbK",
        "colab_type": "text"
      },
      "source": [
        "**Etape 6:** Optionnelle\n",
        "\n",
        "creer  un tableau croisé `ct` entre `df['labels']` et `df['varieties']` pour caclucler le nombre de fois où chaque varieté de graine coincide avec chaque label de cluster."
      ]
    },
    {
      "cell_type": "code",
      "metadata": {
        "id": "OSJ22Aed-nbK",
        "colab_type": "code",
        "colab": {}
      },
      "source": [
        "ct = pd.crosstab(df['labels'], df['varieties'])"
      ],
      "execution_count": 0,
      "outputs": []
    },
    {
      "cell_type": "markdown",
      "metadata": {
        "id": "B1WIo1Bs-nbN",
        "colab_type": "text"
      },
      "source": [
        "**Step 7:** Afficher `ct` et observez comment votre cluster de labels correspond aux varieté de blé."
      ]
    },
    {
      "cell_type": "code",
      "metadata": {
        "id": "ugRdMEd6-nbO",
        "colab_type": "code",
        "colab": {
          "base_uri": "https://localhost:8080/",
          "height": 175
        },
        "outputId": "0a77798e-9275-46b7-c850-0252a3a28920"
      },
      "source": [
        "ct"
      ],
      "execution_count": 25,
      "outputs": [
        {
          "output_type": "execute_result",
          "data": {
            "text/html": [
              "<div>\n",
              "<style scoped>\n",
              "    .dataframe tbody tr th:only-of-type {\n",
              "        vertical-align: middle;\n",
              "    }\n",
              "\n",
              "    .dataframe tbody tr th {\n",
              "        vertical-align: top;\n",
              "    }\n",
              "\n",
              "    .dataframe thead th {\n",
              "        text-align: right;\n",
              "    }\n",
              "</style>\n",
              "<table border=\"1\" class=\"dataframe\">\n",
              "  <thead>\n",
              "    <tr style=\"text-align: right;\">\n",
              "      <th>varieties</th>\n",
              "      <th>Canadian wheat</th>\n",
              "      <th>Kama wheat</th>\n",
              "      <th>Rosa wheat</th>\n",
              "    </tr>\n",
              "    <tr>\n",
              "      <th>labels</th>\n",
              "      <th></th>\n",
              "      <th></th>\n",
              "      <th></th>\n",
              "    </tr>\n",
              "  </thead>\n",
              "  <tbody>\n",
              "    <tr>\n",
              "      <th>1</th>\n",
              "      <td>14</td>\n",
              "      <td>3</td>\n",
              "      <td>0</td>\n",
              "    </tr>\n",
              "    <tr>\n",
              "      <th>2</th>\n",
              "      <td>0</td>\n",
              "      <td>0</td>\n",
              "      <td>14</td>\n",
              "    </tr>\n",
              "    <tr>\n",
              "      <th>3</th>\n",
              "      <td>0</td>\n",
              "      <td>11</td>\n",
              "      <td>0</td>\n",
              "    </tr>\n",
              "  </tbody>\n",
              "</table>\n",
              "</div>"
            ],
            "text/plain": [
              "varieties  Canadian wheat  Kama wheat  Rosa wheat\n",
              "labels                                           \n",
              "1                      14           3           0\n",
              "2                       0           0          14\n",
              "3                       0          11           0"
            ]
          },
          "metadata": {
            "tags": []
          },
          "execution_count": 25
        }
      ]
    }
  ]
}