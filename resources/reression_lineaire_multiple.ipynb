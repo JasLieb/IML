{
  "nbformat": 4,
  "nbformat_minor": 0,
  "metadata": {
    "kernelspec": {
      "display_name": "Python 3",
      "language": "python",
      "name": "python3"
    },
    "language_info": {
      "codemirror_mode": {
        "name": "ipython",
        "version": 3
      },
      "file_extension": ".py",
      "mimetype": "text/x-python",
      "name": "python",
      "nbconvert_exporter": "python",
      "pygments_lexer": "ipython3",
      "version": "3.7.4"
    },
    "colab": {
      "name": "Régression Linéaire Multiple.ipynb",
      "provenance": [],
      "include_colab_link": true
    }
  },
  "cells": [
    {
      "cell_type": "markdown",
      "metadata": {
        "id": "view-in-github",
        "colab_type": "text"
      },
      "source": [
        "<a href=\"https://colab.research.google.com/github/JasLieb/IML/blob/master/R%C3%A9gression_Lin%C3%A9aire_Multiple.ipynb\" target=\"_parent\"><img src=\"https://colab.research.google.com/assets/colab-badge.svg\" alt=\"Open In Colab\"/></a>"
      ]
    },
    {
      "cell_type": "markdown",
      "metadata": {
        "id": "mkXiQYqHK1s0",
        "colab_type": "text"
      },
      "source": [
        "# Régression Linéaire Multiple et Polynomiale Numpy\n",
        "\n",
        "Guillaume Saint-Cirgue\n",
        "https://machinelearnia.com/\n"
      ]
    },
    {
      "cell_type": "code",
      "metadata": {
        "id": "7L6NP_uqK1s3",
        "colab_type": "code",
        "colab": {}
      },
      "source": [
        "import numpy as np\n",
        "from sklearn.datasets import make_regression\n",
        "import matplotlib.pyplot as plt"
      ],
      "execution_count": 0,
      "outputs": []
    },
    {
      "cell_type": "markdown",
      "metadata": {
        "id": "D5lnHg-RK1s_",
        "colab_type": "text"
      },
      "source": [
        "# 1. Régression Polynomiale: 1 variable $x_1$"
      ]
    },
    {
      "cell_type": "markdown",
      "metadata": {
        "id": "227490OHK1tB",
        "colab_type": "text"
      },
      "source": [
        "## 1.1 Dataset\n",
        "\n",
        "Pour développer un modèle polynomial à partir des équations de la régression linéaire, il suffit d'ajouter des degrés de polynome dans les colonnes de la matrice $X$ ainsi qu'un nombre égal de lignes dans le vecteur $\\theta$.\n",
        "\n",
        "Dans ce notebook, nous allons développer un ploynome de degré 2: $f(x) = ax^2 + bx + c$. Pour celà, il faut développer les matrices suivantes:\n",
        "\n",
        "$X = \\begin{bmatrix} x^{2 (1)} & x^{(1)} & 1 \\\\ ... & ... & ... \\\\ x^{2 (m)} & x^{(m)} & 1 \\end{bmatrix}$\n",
        "\n",
        "$\\theta = \\begin{bmatrix} a\\\\b\\\\c \\end{bmatrix}$\n",
        "\n",
        "$y = \\begin{bmatrix} y^{(1)}\\\\...\\\\y^{(m)} \\end{bmatrix}$ *note : le vecteur $y$ reste le meme que pour la régression linéaire*"
      ]
    },
    {
      "cell_type": "code",
      "metadata": {
        "id": "UwPAEfg4K1tD",
        "colab_type": "code",
        "colab": {},
        "outputId": "7d445ce8-8cc0-4e48-e0a5-012880e0e788"
      },
      "source": [
        "np.random.seed(0) # permet de reproduire l'aléatoire\n",
        "\n",
        "x, y = make_regression(n_samples=100, n_features=1, noise = 10) # creation d'un dataset (x, y) linéaire\n",
        "y = y + abs(y/2) # modifie les valeurs de y pour rendre le dataset non-linéaire\n",
        "\n",
        "plt.scatter(x, y) # afficher les résultats. x en abscisse et y en ordonnée"
      ],
      "execution_count": 0,
      "outputs": [
        {
          "output_type": "execute_result",
          "data": {
            "text/plain": [
              "<matplotlib.collections.PathCollection at 0xb6924c8>"
            ]
          },
          "metadata": {
            "tags": []
          },
          "execution_count": 57
        },
        {
          "output_type": "display_data",
          "data": {
            "image/png": "[encoded data removed]",
            "text/plain": [
              "<Figure size 432x288 with 1 Axes>"
            ]
          },
          "metadata": {
            "tags": [],
            "needs_background": "light"
          }
        }
      ]
    },
    {
      "cell_type": "code",
      "metadata": {
        "id": "wB7cQE7uK1tJ",
        "colab_type": "code",
        "colab": {},
        "outputId": "4d1bcb85-fc56-4a6b-c741-842fdf9ecd9b"
      },
      "source": [
        "# Verification des dimensions\n",
        "print(x.shape)\n",
        "print(y.shape)\n",
        "\n",
        "# redimensionner y\n",
        "y = y.reshape(y.shape[0], 1)\n",
        "print(y.shape)"
      ],
      "execution_count": 0,
      "outputs": [
        {
          "output_type": "stream",
          "text": [
            "(100, 1)\n",
            "(100,)\n",
            "(100, 1)\n"
          ],
          "name": "stdout"
        }
      ]
    },
    {
      "cell_type": "code",
      "metadata": {
        "id": "aC2sn8gUK1tO",
        "colab_type": "code",
        "colab": {},
        "outputId": "97b3ba04-f124-4168-8a3f-95406c36b8f6"
      },
      "source": [
        "# Création de la matrice X, inclut le Biais\n",
        "X = np.hstack((x, np.ones(x.shape)))\n",
        "X = np.hstack((x**2, X)) # ajoute le vecteur x^2 a la gauche de la matrice X\n",
        "\n",
        "print(X.shape)\n",
        "print(X[:10])"
      ],
      "execution_count": 0,
      "outputs": [
        {
          "output_type": "stream",
          "text": [
            "(100, 3)\n",
            "[[ 0.12927848 -0.35955316  1.        ]\n",
            " [ 0.95382381  0.97663904  1.        ]\n",
            " [ 0.1618788   0.40234164  1.        ]\n",
            " [ 0.66120688 -0.81314628  1.        ]\n",
            " [ 0.78816353 -0.88778575  1.        ]\n",
            " [ 0.19701457  0.44386323  1.        ]\n",
            " [ 0.95507205 -0.97727788  1.        ]\n",
            " [ 0.18346819  0.42833187  1.        ]\n",
            " [ 0.04337847  0.20827498  1.        ]\n",
            " [ 0.09706498 -0.31155253  1.        ]]\n"
          ],
          "name": "stdout"
        }
      ]
    },
    {
      "cell_type": "code",
      "metadata": {
        "id": "Rn5oFtUMK1tT",
        "colab_type": "code",
        "colab": {},
        "outputId": "332a7eca-df2e-4b83-e88c-1964bc050aad"
      },
      "source": [
        "# Initialisation du vecteur theta aléatoire, avec 3 éléments (car X a trois colonnes)\n",
        "theta = np.random.randn(3, 1)\n",
        "theta"
      ],
      "execution_count": 0,
      "outputs": [
        {
          "output_type": "execute_result",
          "data": {
            "text/plain": [
              "array([[-0.63743703],\n",
              "       [-0.39727181],\n",
              "       [-0.13288058]])"
            ]
          },
          "metadata": {
            "tags": []
          },
          "execution_count": 60
        }
      ]
    },
    {
      "cell_type": "markdown",
      "metadata": {
        "id": "BiW-Uu59K1tY",
        "colab_type": "text"
      },
      "source": [
        "## 1.2 Modèle Linéaire\n",
        "On implémente un modèle $F = X.\\theta$, puis on teste le modèle pour voir s'il n'y a pas de bug (bonne pratique oblige). En plus, cela permet de voir à quoi ressemble le modèle initial, défini par la valeur de $\\theta$"
      ]
    },
    {
      "cell_type": "code",
      "metadata": {
        "id": "YwZX_P69K1tZ",
        "colab_type": "code",
        "colab": {}
      },
      "source": [
        "def model(X, theta):\n",
        "    return X.dot(theta)"
      ],
      "execution_count": 0,
      "outputs": []
    },
    {
      "cell_type": "code",
      "metadata": {
        "id": "zU2CoKvXK1td",
        "colab_type": "code",
        "colab": {},
        "outputId": "cdffe1f7-392c-4424-fec5-1a590d7cf0ff"
      },
      "source": [
        "plt.scatter(x, y)\n",
        "plt.scatter(x, model(X, theta), c='r')"
      ],
      "execution_count": 0,
      "outputs": [
        {
          "output_type": "execute_result",
          "data": {
            "text/plain": [
              "<matplotlib.collections.PathCollection at 0xb6ff408>"
            ]
          },
          "metadata": {
            "tags": []
          },
          "execution_count": 62
        },
        {
          "output_type": "display_data",
          "data": {
            "image/png": "[encoded data removed]",
            "text/plain": [
              "<Figure size 432x288 with 1 Axes>"
            ]
          },
          "metadata": {
            "tags": [],
            "needs_background": "light"
          }
        }
      ]
    },
    {
      "cell_type": "markdown",
      "metadata": {
        "id": "HhsY0fdeK1tm",
        "colab_type": "text"
      },
      "source": [
        "## 1.3 Fonction Cout :  Erreur Quadratique moyenne\n",
        "On mesure les erreurs du modele sur le Dataset X, y en implémenter l'Erreur Quadratique Moyenne,  **Mean Squared Error (MSE)** en anglais.\n",
        "\n",
        "$ J(\\theta) = \\frac{1}{2m} \\sum (X.\\theta - y)^2 $\n",
        "\n",
        "Ensuite, on teste notre fonction, pour voir s'il n'y a pas de bug"
      ]
    },
    {
      "cell_type": "code",
      "metadata": {
        "id": "4zicWOyHK1tn",
        "colab_type": "code",
        "colab": {}
      },
      "source": [
        "def cost_function(X, y, theta):\n",
        "    m = len(y)\n",
        "    return 1/(2*m) * np.sum((model(X, theta) - y)**2)"
      ],
      "execution_count": 0,
      "outputs": []
    },
    {
      "cell_type": "code",
      "metadata": {
        "id": "8ztqDb7aK1tr",
        "colab_type": "code",
        "colab": {},
        "outputId": "8c32af0b-6bff-4f5b-9155-d3b88d90afbf"
      },
      "source": [
        "cost_function(X, y, theta)"
      ],
      "execution_count": 0,
      "outputs": [
        {
          "output_type": "execute_result",
          "data": {
            "text/plain": [
              "1328.6654828872622"
            ]
          },
          "metadata": {
            "tags": []
          },
          "execution_count": 64
        }
      ]
    },
    {
      "cell_type": "markdown",
      "metadata": {
        "id": "zPyIlA3-K1tw",
        "colab_type": "text"
      },
      "source": [
        "## 1.4 Gradients et Descente de Gradient\n",
        "On implémente la formule du gradient pour la **MSE**\n",
        "\n",
        "$\\frac{\\partial J(\\theta) }{\\partial \\theta} = \\frac{1}{m} X^T.(X.\\theta - y)$\n",
        "\n",
        "Ensuite on utilise cette fonction dans la descente de gradient:\n",
        "\n",
        "$\\theta = \\theta - \\alpha \\frac{\\partial J(\\theta) }{\\partial \\theta}$\n"
      ]
    },
    {
      "cell_type": "code",
      "metadata": {
        "id": "TfOKffwlK1tx",
        "colab_type": "code",
        "colab": {}
      },
      "source": [
        "def grad(X, y, theta):\n",
        "    m = len(y)\n",
        "    return 1/m * X.T.dot(model(X, theta) - y)"
      ],
      "execution_count": 0,
      "outputs": []
    },
    {
      "cell_type": "code",
      "metadata": {
        "id": "GLbGhVpZK1t1",
        "colab_type": "code",
        "colab": {}
      },
      "source": [
        "def gradient_descent(X, y, theta, learning_rate, n_iterations):\n",
        "    \n",
        "    cost_history = np.zeros(n_iterations) # création d'un tableau de stockage pour enregistrer l'évolution du Cout du modele\n",
        "    \n",
        "    for i in range(0, n_iterations):\n",
        "        theta = theta - learning_rate * grad(X, y, theta) # mise a jour du parametre theta (formule du gradient descent)\n",
        "        cost_history[i] = cost_function(X, y, theta) # on enregistre la valeur du Cout au tour i dans cost_history[i]\n",
        "        \n",
        "    return theta, cost_history"
      ],
      "execution_count": 0,
      "outputs": []
    },
    {
      "cell_type": "markdown",
      "metadata": {
        "id": "WcHywZRCK1t5",
        "colab_type": "text"
      },
      "source": [
        "## 1.5 Phase d'entrainement\n",
        "On définit un **nombre d'itérations**, ainsi qu'un **pas d'apprentissage $\\alpha$**, et c'est partit !\n",
        "\n",
        "Une fois le modèle entrainé, on observe les resultats par rapport a notre Dataset"
      ]
    },
    {
      "cell_type": "code",
      "metadata": {
        "id": "cWiedy_rK1t5",
        "colab_type": "code",
        "colab": {}
      },
      "source": [
        "n_iterations = 1000\n",
        "learning_rate = 0.01\n",
        "\n",
        "theta_final, cost_history = gradient_descent(X, y, theta, learning_rate, n_iterations)"
      ],
      "execution_count": 0,
      "outputs": []
    },
    {
      "cell_type": "code",
      "metadata": {
        "id": "r8Ko6JKQK1t9",
        "colab_type": "code",
        "colab": {},
        "outputId": "2d56c6bf-fccf-4800-b0d9-66da87948169"
      },
      "source": [
        "theta_final # voici les parametres du modele une fois que la machine a été entrainée"
      ],
      "execution_count": 0,
      "outputs": [
        {
          "output_type": "execute_result",
          "data": {
            "text/plain": [
              "array([[ 8.60077615],\n",
              "       [42.23116732],\n",
              "       [ 8.18143081]])"
            ]
          },
          "metadata": {
            "tags": []
          },
          "execution_count": 68
        }
      ]
    },
    {
      "cell_type": "code",
      "metadata": {
        "id": "BXuuKL_CK1uA",
        "colab_type": "code",
        "colab": {},
        "outputId": "6d81e3d4-fa06-41b6-d71a-32a43dcf9d33"
      },
      "source": [
        "# création d'un vecteur prédictions qui contient les prédictions de notre modele final\n",
        "predictions = model(X, theta_final)\n",
        "\n",
        "# Affiche les résultats de prédictions (en rouge) par rapport a notre Dataset (en bleu)\n",
        "plt.scatter(x, y)\n",
        "plt.scatter(x, predictions, c='r')"
      ],
      "execution_count": 0,
      "outputs": [
        {
          "output_type": "execute_result",
          "data": {
            "text/plain": [
              "<matplotlib.collections.PathCollection at 0xb76dc48>"
            ]
          },
          "metadata": {
            "tags": []
          },
          "execution_count": 69
        },
        {
          "output_type": "display_data",
          "data": {
            "image/png": "[encoded data removed]",
            "text/plain": [
              "<Figure size 432x288 with 1 Axes>"
            ]
          },
          "metadata": {
            "tags": [],
            "needs_background": "light"
          }
        }
      ]
    },
    {
      "cell_type": "markdown",
      "metadata": {
        "id": "JcaANDGVK1uD",
        "colab_type": "text"
      },
      "source": [
        "## 1.6 Courbes d'apprentissage\n",
        "Pour vérifier si notre algorithme de Descente de gradient a bien fonctionné, on observe l'évolution de la fonction cout à travers les itérations. On est sensé obtenir une courbe qui diminue à chaque itération jusqu'à stagner a un niveau minimal (proche de zéro). Si la courbe ne suit pas ce motif, alors le pas **learning_rate** est peut-etre trop élevé, il faut prendre un pas plus faible."
      ]
    },
    {
      "cell_type": "code",
      "metadata": {
        "id": "DBQujrf-K1uE",
        "colab_type": "code",
        "colab": {},
        "outputId": "7ff2d10c-558a-4429-c6da-635c8ec36750"
      },
      "source": [
        "plt.plot(range(n_iterations), cost_history)"
      ],
      "execution_count": 0,
      "outputs": [
        {
          "output_type": "execute_result",
          "data": {
            "text/plain": [
              "[<matplotlib.lines.Line2D at 0xb7c3648>]"
            ]
          },
          "metadata": {
            "tags": []
          },
          "execution_count": 70
        },
        {
          "output_type": "display_data",
          "data": {
            "image/png": "[encoded data removed]",
            "text/plain": [
              "<Figure size 432x288 with 1 Axes>"
            ]
          },
          "metadata": {
            "tags": [],
            "needs_background": "light"
          }
        }
      ]
    },
    {
      "cell_type": "markdown",
      "metadata": {
        "id": "_u7MT6vpK1uI",
        "colab_type": "text"
      },
      "source": [
        "## 1.7 Evaluation finale\n",
        "Pour évaluer la réelle performance de notre modèle avec une métrique populaire (pour votre patron, client, ou vos collegues) on peut utiliser le **coefficient de détermination**, aussi connu sous le nom $R^2$. Il nous vient de la méthode des moindres carrés. Plus le résultat est proche de 1, meilleur est votre modèle"
      ]
    },
    {
      "cell_type": "code",
      "metadata": {
        "id": "853EM0ZpK1uI",
        "colab_type": "code",
        "colab": {}
      },
      "source": [
        "def coef_determination(y, pred):\n",
        "    u = ((y - pred)**2).sum()\n",
        "    v = ((y - y.mean())**2).sum()\n",
        "    return 1 - u/v"
      ],
      "execution_count": 0,
      "outputs": []
    },
    {
      "cell_type": "code",
      "metadata": {
        "id": "NgDDKb3qK1uL",
        "colab_type": "code",
        "colab": {},
        "outputId": "54add383-2f5a-4689-e583-a583842acb46"
      },
      "source": [
        "coef_determination(y, predictions)"
      ],
      "execution_count": 0,
      "outputs": [
        {
          "output_type": "execute_result",
          "data": {
            "text/plain": [
              "0.9287186469389942"
            ]
          },
          "metadata": {
            "tags": []
          },
          "execution_count": 72
        }
      ]
    },
    {
      "cell_type": "markdown",
      "metadata": {
        "id": "j8FOEAeuK1uP",
        "colab_type": "text"
      },
      "source": [
        "# 2. Régression Multiples Variables\n",
        "C'est lorsqu'on integre plusieures variables $x_1, x_2, x_3, etc.$ à notre modèle que les choses commencent à devenir vraiment intéressantes. C'est peut-être aussi à ce moment que les gens commencent parfois à parler *d'intelligence artificielle*, car il est difficile pour un être humain de se représenter dans sa tête un modèle à plusieurs dimensions (nous n'évoluons que dans un espace 3D). On se dit alors que la machine, quant à elle, arrive à se réprésenter ces espaces, car elle y trouve le meilleur modèle (avec la descente de gradient) et les gens disent donc qu'elle est intelligente, alors que ce ne sont que des mathématiques.\n",
        "\n",
        "## 2.1 Dataset\n",
        "\n",
        "\n",
        "Dans ce notbook, nous allons créer un modèle à 2 variables $x_1, x_2$. Pour cela, il suffit d'injecter les différentes variables $x_1, x_2$ (les **features** en anglais) dans la matrice $X$, et de créer le vecteur $\\theta$ qui s'accorde avec:\n",
        "\n",
        "\n",
        "\n",
        "$X = \\begin{bmatrix} x^{(1)}_1 & x^{(1)}_2 & 1 \\\\ ... & ... & ... \\\\ x^{(m)}_1 & x^{(m)}_2 & 1 \\end{bmatrix}$\n",
        "\n",
        "$\\theta = \\begin{bmatrix} a\\\\b\\\\c \\end{bmatrix}$\n",
        "\n",
        "$y = \\begin{bmatrix} y^{(1)}\\\\...\\\\y^{(m)} \\end{bmatrix}$ *note : le vecteur $y$ reste le meme que pour la régression linéaire*\n"
      ]
    },
    {
      "cell_type": "code",
      "metadata": {
        "id": "CqUD8af3K1uQ",
        "colab_type": "code",
        "colab": {},
        "outputId": "67cbbcab-4e2f-4a9a-a6f7-f0571e8d2bbb"
      },
      "source": [
        "np.random.seed(0) # permet de reproduire l'aléatoire\n",
        "\n",
        "x, y = make_regression(n_samples=100, n_features=2, noise = 10) # creation d'un dataset (x, y) linéaire\n",
        "\n",
        "plt.scatter(x[:,0], y) # afficher les résultats. x_1 en abscisse et y en ordonnée"
      ],
      "execution_count": 0,
      "outputs": [
        {
          "output_type": "execute_result",
          "data": {
            "text/plain": [
              "<matplotlib.collections.PathCollection at 0xb832c48>"
            ]
          },
          "metadata": {
            "tags": []
          },
          "execution_count": 73
        },
        {
          "output_type": "display_data",
          "data": {
            "image/png": "[encoded data removed]",
            "text/plain": [
              "<Figure size 432x288 with 1 Axes>"
            ]
          },
          "metadata": {
            "tags": [],
            "needs_background": "light"
          }
        }
      ]
    },
    {
      "cell_type": "markdown",
      "metadata": {
        "id": "1bMufR78K1uS",
        "colab_type": "text"
      },
      "source": [
        "Ce Dataset ne contenant que 2 variables $x_1 et x_2$ il est possible de le visualiser dans un espace 3D. Comme vous pouvez le voir, ce modèle peut être représenté par une surface. Au passage, cette surface est plane car make_regression nous retourne des données linéaire. Si on veut créer une surface non plane, il suffit de modifier la valeur de y comme nous l'avons fait au début de ce notebook. (Nous ne le ferons pas ici)"
      ]
    },
    {
      "cell_type": "code",
      "metadata": {
        "id": "bWdqWMu-K1uT",
        "colab_type": "code",
        "colab": {},
        "outputId": "1640e11c-9d6e-4ea6-aaf2-982e64a0054f"
      },
      "source": [
        "from mpl_toolkits.mplot3d import Axes3D\n",
        "#%matplotlib notebook #activez cette ligne pour manipuler le graph 3D\n",
        "\n",
        "ax = fig.add_subplot(111, projection='3d')\n",
        "\n",
        "ax.scatter(x[:,0], x[:,1], y) # affiche en 3D la variable x_1, x_2, et la target y\n",
        "\n",
        "# affiche les noms des axes\n",
        "ax.set_xlabel('x_1')\n",
        "ax.set_ylabel('x_2')\n",
        "ax.set_zlabel('y')"
      ],
      "execution_count": 0,
      "outputs": [
        {
          "output_type": "execute_result",
          "data": {
            "text/plain": [
              "Text(0.5, 0, 'y')"
            ]
          },
          "metadata": {
            "tags": []
          },
          "execution_count": 74
        }
      ]
    },
    {
      "cell_type": "code",
      "metadata": {
        "id": "CucXNkTHK1uW",
        "colab_type": "code",
        "colab": {},
        "outputId": "4e97f9fb-c071-4f41-ee4c-736528b49387"
      },
      "source": [
        "# Verification des dimensions\n",
        "print(x.shape)\n",
        "print(y.shape)\n",
        "\n",
        "# redimensionner y\n",
        "y = y.reshape(y.shape[0], 1)\n",
        "print(y.shape)"
      ],
      "execution_count": 0,
      "outputs": [
        {
          "output_type": "stream",
          "text": [
            "(100, 2)\n",
            "(100,)\n",
            "(100, 1)\n"
          ],
          "name": "stdout"
        }
      ]
    },
    {
      "cell_type": "code",
      "metadata": {
        "id": "8kCZ3ZZ7K1uZ",
        "colab_type": "code",
        "colab": {},
        "outputId": "5b274a57-47c1-4373-b84b-ae8adb9fce85"
      },
      "source": [
        "# Création de la matrice X, inclut le Biais\n",
        "X = np.hstack((x, np.ones((x.shape[0], 1)))) # ajoute un vecteur Biais de dimension (x.shape[0], 1)\n",
        "\n",
        "print(X.shape)\n",
        "print(X[:10])"
      ],
      "execution_count": 0,
      "outputs": [
        {
          "output_type": "stream",
          "text": [
            "(100, 3)\n",
            "[[ 1.05445173 -1.07075262  1.        ]\n",
            " [-0.36274117 -0.63432209  1.        ]\n",
            " [-0.85409574  0.3130677   1.        ]\n",
            " [ 1.3263859   0.29823817  1.        ]\n",
            " [-0.4615846  -1.31590741  1.        ]\n",
            " [ 1.94362119 -1.17312341  1.        ]\n",
            " [-1.60205766  0.62523145  1.        ]\n",
            " [-0.40178094  0.17742614  1.        ]\n",
            " [-0.97727788  1.86755799  1.        ]\n",
            " [ 0.37816252  0.15494743  1.        ]]\n"
          ],
          "name": "stdout"
        }
      ]
    },
    {
      "cell_type": "code",
      "metadata": {
        "id": "7bmxLfIHK1uc",
        "colab_type": "code",
        "colab": {},
        "outputId": "d80b9c7e-f560-4023-af0c-2c391fdf4e50"
      },
      "source": [
        "# Initialisation du vecteur theta aléatoire, avec 3 éléments (car X a trois colonnes)\n",
        "theta = np.random.randn(3, 1)\n",
        "theta"
      ],
      "execution_count": 0,
      "outputs": [
        {
          "output_type": "execute_result",
          "data": {
            "text/plain": [
              "array([[-0.82646112],\n",
              "       [ 0.78420863],\n",
              "       [-0.1954172 ]])"
            ]
          },
          "metadata": {
            "tags": []
          },
          "execution_count": 77
        }
      ]
    },
    {
      "cell_type": "markdown",
      "metadata": {
        "id": "NxVOJjEWK1ue",
        "colab_type": "text"
      },
      "source": [
        "## 2.2 Modèle Linéaire\n",
        "## 2.3 Fonction Cout\n",
        "## 2.4 Gradient Descent\n",
        "\n",
        "Nos fonctions étant déjà implémentées, inutile de les réécrire. Passons imédiatement à la phase d'entrainement !"
      ]
    },
    {
      "cell_type": "markdown",
      "metadata": {
        "id": "F2zRy1O0K1uf",
        "colab_type": "text"
      },
      "source": [
        "## 2.5 Phase d'entrainement"
      ]
    },
    {
      "cell_type": "code",
      "metadata": {
        "id": "ja93uCqYK1ug",
        "colab_type": "code",
        "colab": {}
      },
      "source": [
        "n_iterations = 1000\n",
        "learning_rate = 0.01\n",
        "\n",
        "theta_final, cost_history = gradient_descent(X, y, theta, learning_rate, n_iterations)"
      ],
      "execution_count": 0,
      "outputs": []
    },
    {
      "cell_type": "code",
      "metadata": {
        "id": "ZAmRMTZCK1ui",
        "colab_type": "code",
        "colab": {},
        "outputId": "dfe407f4-72ca-4646-efe0-ac219ca04470"
      },
      "source": [
        "# création d'un vecteur prédictions qui contient les prédictions de notre modele final\n",
        "predictions = model(X, theta_final)\n",
        "\n",
        "theta_final"
      ],
      "execution_count": 0,
      "outputs": [
        {
          "output_type": "execute_result",
          "data": {
            "text/plain": [
              "array([[28.67154616],\n",
              "       [97.29524926],\n",
              "       [-0.511481  ]])"
            ]
          },
          "metadata": {
            "tags": []
          },
          "execution_count": 79
        }
      ]
    },
    {
      "cell_type": "code",
      "metadata": {
        "id": "bO_I07mOK1uk",
        "colab_type": "code",
        "colab": {},
        "outputId": "c91c76f1-c46e-4d67-fe87-2a5363660394"
      },
      "source": [
        "fig = plt.figure()\n",
        "ax = fig.add_subplot(111, projection='3d')\n",
        "\n",
        "ax.scatter(x[:,0], x[:,1], y)\n",
        "ax.scatter(x[:,0], x[:,1], predictions)"
      ],
      "execution_count": 0,
      "outputs": [
        {
          "output_type": "execute_result",
          "data": {
            "text/plain": [
              "<mpl_toolkits.mplot3d.art3d.Path3DCollection at 0xb8e3d08>"
            ]
          },
          "metadata": {
            "tags": []
          },
          "execution_count": 80
        },
        {
          "output_type": "display_data",
          "data": {
            "image/png": "[encoded data removed]",
            "text/plain": [
              "<Figure size 432x288 with 1 Axes>"
            ]
          },
          "metadata": {
            "tags": [],
            "needs_background": "light"
          }
        }
      ]
    },
    {
      "cell_type": "markdown",
      "metadata": {
        "id": "25MuYxJdK1uo",
        "colab_type": "text"
      },
      "source": [
        "## 2.6 Courbe d'apprentissage"
      ]
    },
    {
      "cell_type": "code",
      "metadata": {
        "id": "6XpTylCKK1up",
        "colab_type": "code",
        "colab": {},
        "outputId": "83005c4e-34db-4075-a3be-37621b0f9ae5"
      },
      "source": [
        "plt.plot(range(n_iterations), cost_history)"
      ],
      "execution_count": 0,
      "outputs": [
        {
          "output_type": "execute_result",
          "data": {
            "text/plain": [
              "[<matplotlib.lines.Line2D at 0xb94b688>]"
            ]
          },
          "metadata": {
            "tags": []
          },
          "execution_count": 81
        },
        {
          "output_type": "display_data",
          "data": {
            "image/png": "[encoded data removed]",
            "text/plain": [
              "<Figure size 432x288 with 1 Axes>"
            ]
          },
          "metadata": {
            "tags": [],
            "needs_background": "light"
          }
        }
      ]
    },
    {
      "cell_type": "markdown",
      "metadata": {
        "id": "9gNR1GHsK1uq",
        "colab_type": "text"
      },
      "source": [
        "## 1.7 Evaluation finale"
      ]
    },
    {
      "cell_type": "code",
      "metadata": {
        "id": "6zT_LP_RK1ur",
        "colab_type": "code",
        "colab": {},
        "outputId": "bfb43f37-ac73-4604-ef87-5f4af00b11f0"
      },
      "source": [
        "coef_determination(y, predictions)"
      ],
      "execution_count": 0,
      "outputs": [
        {
          "output_type": "execute_result",
          "data": {
            "text/plain": [
              "0.9916687122277607"
            ]
          },
          "metadata": {
            "tags": []
          },
          "execution_count": 82
        }
      ]
    },
    {
      "cell_type": "markdown",
      "metadata": {
        "id": "2LTPeybaK1uu",
        "colab_type": "text"
      },
      "source": [
        "Merci d'avoir suivi ce tutoriel. Abonnez-vous a ma chaine youtube pour ne pas louper d'autres tutos (chaque semaine de nouvelles vidéos!) https://www.youtube.com/channel/UCmpptkXu8iIFe6kfDK5o7VQ"
      ]
    },
    {
      "cell_type": "code",
      "metadata": {
        "id": "b_QojAT2K1uv",
        "colab_type": "code",
        "colab": {}
      },
      "source": [
        ""
      ],
      "execution_count": 0,
      "outputs": []
    },
    {
      "cell_type": "code",
      "metadata": {
        "id": "ZeC378oaK1ux",
        "colab_type": "code",
        "colab": {}
      },
      "source": [
        ""
      ],
      "execution_count": 0,
      "outputs": []
    },
    {
      "cell_type": "code",
      "metadata": {
        "id": "p-xV0TnLK1u0",
        "colab_type": "code",
        "colab": {}
      },
      "source": [
        ""
      ],
      "execution_count": 0,
      "outputs": []
    }
  ]
}