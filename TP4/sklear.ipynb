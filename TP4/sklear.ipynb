{
  "nbformat": 4,
  "nbformat_minor": 0,
  "metadata": {
    "kernelspec": {
      "display_name": "Python 3",
      "language": "python",
      "name": "python3"
    },
    "language_info": {
      "codemirror_mode": {
        "name": "ipython",
        "version": 3
      },
      "file_extension": ".py",
      "mimetype": "text/x-python",
      "name": "python",
      "nbconvert_exporter": "python",
      "pygments_lexer": "ipython3",
      "version": "3.7.6"
    },
    "colab": {
      "name": "sklear.ipynb",
      "provenance": [],
      "collapsed_sections": [],
      "include_colab_link": true
    }
  },
  "cells": [
    {
      "cell_type": "markdown",
      "metadata": {
        "id": "view-in-github",
        "colab_type": "text"
      },
      "source": [
        "<a href=\"https://colab.research.google.com/github/JasLieb/IML/blob/master/TP4/sklear.ipynb\" target=\"_parent\"><img src=\"https://colab.research.google.com/assets/colab-badge.svg\" alt=\"Open In Colab\"/></a>"
      ]
    },
    {
      "cell_type": "markdown",
      "metadata": {
        "id": "3r38NozVEp3N",
        "colab_type": "text"
      },
      "source": [
        "TP réalisé grâce à la collaboration de :\n",
        "*   Jason Liebault\n",
        "*   Mathieu Ryckman\n",
        "\n"
      ]
    },
    {
      "cell_type": "markdown",
      "metadata": {
        "id": "BZ-28bOkBxF2",
        "colab_type": "text"
      },
      "source": [
        "<h1>EXERCICE 1 - Python dans l'apprentissage de données </h2>\n",
        "<h2> Incontournable :  : Analysons d'abord pour mieux Prédire ensuite </h2>\n",
        "\n",
        "# Exercice réalisé ensemble"
      ]
    },
    {
      "cell_type": "markdown",
      "metadata": {
        "id": "gLjDQEYxBxF6",
        "colab_type": "text"
      },
      "source": [
        "L'Objectif ici est de nous familiariser avec la laibrairie Scikits-Learn.\n",
        "Scikits-Learn est une librairie d'apprentissage automatique couvrant l'ensemble de la discipline ML.\n",
        "https://scikit-learn.org/stable/index.html\n",
        "\n",
        "- Elle dispose d'une excellente documentation fournissant de nombreux exemples\n",
        "- Elle dispose d'une API uniforme entre tous les algorithmes, ce qui fait qu'il est facile de basculer de l'un à l'autre\n",
        "- Elle est très bien intégrée avec les Librairies Pandas, numpy et Seaborn\n",
        "- Elle dispose d'une grande communauté et de plus de 800 contributeurs référencés sur GitHub !\n",
        "- C'est un projet open source\n",
        "- Son code est rapide, certaines parties sont implémentées en Cython\n",
        "\n",
        "\n",
        "Grace à son module Dataset, nous pouvons recuperer différents jeux de données que l'on utilise dans le spectre du ML.\n",
        "\n",
        "- load_boston([return_X_y])\n",
        "- load_iris([return_X_y])\n",
        "- load_diabetes([return_X_y])\n",
        "- load_digits([n_class, return_X_y])\n",
        "- load_linnerud([return_X_y])\n",
        "- load_wine([return_X_y])\n",
        "- load_breast_cancer([return_X_y])\n",
        "\n",
        "\n",
        "<H1>Les données</H1>\n",
        "\n",
        "Les données sont représentées par des tableaux à 2 dimensions, géeneralement sous les formats suivants: \n",
        "- des tableaux Numpy,\n",
        "- Pandas, \n",
        "- Python\n",
        "\n",
        "    Les lignes représentent les enregistrements\n",
        "    Les colonnes les attributs (hauteur, longueur, couleur, autre information)\n",
        "\n"
      ]
    },
    {
      "cell_type": "markdown",
      "metadata": {
        "id": "h7zV1rsiBxF8",
        "colab_type": "text"
      },
      "source": [
        "Nous allons explorer le jeu de données IRIS\n",
        "Charger le jeu de données à affecter la variable IRIS\n",
        "Regarder le type  (type(IRIS))\n",
        "regarder les éléments que vous pouvez analyser \n",
        "dir(IRIS)"
      ]
    },
    {
      "cell_type": "code",
      "metadata": {
        "id": "kkfvUNUrBxF-",
        "colab_type": "code",
        "colab": {}
      },
      "source": [
        "import numpy as np\n",
        "import pandas as pd\n",
        "from sklearn import datasets\n",
        "\n",
        "iris = datasets.load_iris()\n",
        "iris_df = pd.read_csv('data.csv')"
      ],
      "execution_count": 0,
      "outputs": []
    },
    {
      "cell_type": "markdown",
      "metadata": {
        "id": "E-4DyaNlBxGF",
        "colab_type": "text"
      },
      "source": [
        "Regarder le contenu de chaquun des élemenents \n",
        "['DESCR', 'data', 'feature_names', 'filename', 'target', 'target_names']"
      ]
    },
    {
      "cell_type": "code",
      "metadata": {
        "id": "i92p18XEBxGK",
        "colab_type": "code",
        "outputId": "7f00a9cd-7846-4df1-ea3d-b94015e3249d",
        "colab": {
          "base_uri": "https://localhost:8080/",
          "height": 1000
        }
      },
      "source": [
        "print(type(iris))\n",
        "print(iris.DESCR)\n",
        "print(iris.data)\n",
        "print(iris.feature_names)\n",
        "print(iris.filename)\n",
        "print(iris.target)\n",
        "print(iris.target_names)"
      ],
      "execution_count": 0,
      "outputs": [
        {
          "output_type": "stream",
          "text": [
            "<class 'sklearn.utils.Bunch'>\n",
            ".. _iris_dataset:\n",
            "\n",
            "Iris plants dataset\n",
            "--------------------\n",
            "\n",
            "**Data Set Characteristics:**\n",
            "\n",
            "    :Number of Instances: 150 (50 in each of three classes)\n",
            "    :Number of Attributes: 4 numeric, predictive attributes and the class\n",
            "    :Attribute Information:\n",
            "        - sepal length in cm\n",
            "        - sepal width in cm\n",
            "        - petal length in cm\n",
            "        - petal width in cm\n",
            "        - class:\n",
            "                - Iris-Setosa\n",
            "                - Iris-Versicolour\n",
            "                - Iris-Virginica\n",
            "                \n",
            "    :Summary Statistics:\n",
            "\n",
            "    ============== ==== ==== ======= ===== ====================\n",
            "                    Min  Max   Mean    SD   Class Correlation\n",
            "    ============== ==== ==== ======= ===== ====================\n",
            "    sepal length:   4.3  7.9   5.84   0.83    0.7826\n",
            "    sepal width:    2.0  4.4   3.05   0.43   -0.4194\n",
            "    petal length:   1.0  6.9   3.76   1.76    0.9490  (high!)\n",
            "    petal width:    0.1  2.5   1.20   0.76    0.9565  (high!)\n",
            "    ============== ==== ==== ======= ===== ====================\n",
            "\n",
            "    :Missing Attribute Values: None\n",
            "    :Class Distribution: 33.3% for each of 3 classes.\n",
            "    :Creator: R.A. Fisher\n",
            "    :Donor: Michael Marshall (MARSHALL%PLU@io.arc.nasa.gov)\n",
            "    :Date: July, 1988\n",
            "\n",
            "The famous Iris database, first used by Sir R.A. Fisher. The dataset is taken\n",
            "from Fisher's paper. Note that it's the same as in R, but not as in the UCI\n",
            "Machine Learning Repository, which has two wrong data points.\n",
            "\n",
            "This is perhaps the best known database to be found in the\n",
            "pattern recognition literature.  Fisher's paper is a classic in the field and\n",
            "is referenced frequently to this day.  (See Duda & Hart, for example.)  The\n",
            "data set contains 3 classes of 50 instances each, where each class refers to a\n",
            "type of iris plant.  One class is linearly separable from the other 2; the\n",
            "latter are NOT linearly separable from each other.\n",
            "\n",
            ".. topic:: References\n",
            "\n",
            "   - Fisher, R.A. \"The use of multiple measurements in taxonomic problems\"\n",
            "     Annual Eugenics, 7, Part II, 179-188 (1936); also in \"Contributions to\n",
            "     Mathematical Statistics\" (John Wiley, NY, 1950).\n",
            "   - Duda, R.O., & Hart, P.E. (1973) Pattern Classification and Scene Analysis.\n",
            "     (Q327.D83) John Wiley & Sons.  ISBN 0-471-22361-1.  See page 218.\n",
            "   - Dasarathy, B.V. (1980) \"Nosing Around the Neighborhood: A New System\n",
            "     Structure and Classification Rule for Recognition in Partially Exposed\n",
            "     Environments\".  IEEE Transactions on Pattern Analysis and Machine\n",
            "     Intelligence, Vol. PAMI-2, No. 1, 67-71.\n",
            "   - Gates, G.W. (1972) \"The Reduced Nearest Neighbor Rule\".  IEEE Transactions\n",
            "     on Information Theory, May 1972, 431-433.\n",
            "   - See also: 1988 MLC Proceedings, 54-64.  Cheeseman et al\"s AUTOCLASS II\n",
            "     conceptual clustering system finds 3 classes in the data.\n",
            "   - Many, many more ...\n",
            "[[5.1 3.5 1.4 0.2]\n",
            " [4.9 3.  1.4 0.2]\n",
            " [4.7 3.2 1.3 0.2]\n",
            " [4.6 3.1 1.5 0.2]\n",
            " [5.  3.6 1.4 0.2]\n",
            " [5.4 3.9 1.7 0.4]\n",
            " [4.6 3.4 1.4 0.3]\n",
            " [5.  3.4 1.5 0.2]\n",
            " [4.4 2.9 1.4 0.2]\n",
            " [4.9 3.1 1.5 0.1]\n",
            " [5.4 3.7 1.5 0.2]\n",
            " [4.8 3.4 1.6 0.2]\n",
            " [4.8 3.  1.4 0.1]\n",
            " [4.3 3.  1.1 0.1]\n",
            " [5.8 4.  1.2 0.2]\n",
            " [5.7 4.4 1.5 0.4]\n",
            " [5.4 3.9 1.3 0.4]\n",
            " [5.1 3.5 1.4 0.3]\n",
            " [5.7 3.8 1.7 0.3]\n",
            " [5.1 3.8 1.5 0.3]\n",
            " [5.4 3.4 1.7 0.2]\n",
            " [5.1 3.7 1.5 0.4]\n",
            " [4.6 3.6 1.  0.2]\n",
            " [5.1 3.3 1.7 0.5]\n",
            " [4.8 3.4 1.9 0.2]\n",
            " [5.  3.  1.6 0.2]\n",
            " [5.  3.4 1.6 0.4]\n",
            " [5.2 3.5 1.5 0.2]\n",
            " [5.2 3.4 1.4 0.2]\n",
            " [4.7 3.2 1.6 0.2]\n",
            " [4.8 3.1 1.6 0.2]\n",
            " [5.4 3.4 1.5 0.4]\n",
            " [5.2 4.1 1.5 0.1]\n",
            " [5.5 4.2 1.4 0.2]\n",
            " [4.9 3.1 1.5 0.2]\n",
            " [5.  3.2 1.2 0.2]\n",
            " [5.5 3.5 1.3 0.2]\n",
            " [4.9 3.6 1.4 0.1]\n",
            " [4.4 3.  1.3 0.2]\n",
            " [5.1 3.4 1.5 0.2]\n",
            " [5.  3.5 1.3 0.3]\n",
            " [4.5 2.3 1.3 0.3]\n",
            " [4.4 3.2 1.3 0.2]\n",
            " [5.  3.5 1.6 0.6]\n",
            " [5.1 3.8 1.9 0.4]\n",
            " [4.8 3.  1.4 0.3]\n",
            " [5.1 3.8 1.6 0.2]\n",
            " [4.6 3.2 1.4 0.2]\n",
            " [5.3 3.7 1.5 0.2]\n",
            " [5.  3.3 1.4 0.2]\n",
            " [7.  3.2 4.7 1.4]\n",
            " [6.4 3.2 4.5 1.5]\n",
            " [6.9 3.1 4.9 1.5]\n",
            " [5.5 2.3 4.  1.3]\n",
            " [6.5 2.8 4.6 1.5]\n",
            " [5.7 2.8 4.5 1.3]\n",
            " [6.3 3.3 4.7 1.6]\n",
            " [4.9 2.4 3.3 1. ]\n",
            " [6.6 2.9 4.6 1.3]\n",
            " [5.2 2.7 3.9 1.4]\n",
            " [5.  2.  3.5 1. ]\n",
            " [5.9 3.  4.2 1.5]\n",
            " [6.  2.2 4.  1. ]\n",
            " [6.1 2.9 4.7 1.4]\n",
            " [5.6 2.9 3.6 1.3]\n",
            " [6.7 3.1 4.4 1.4]\n",
            " [5.6 3.  4.5 1.5]\n",
            " [5.8 2.7 4.1 1. ]\n",
            " [6.2 2.2 4.5 1.5]\n",
            " [5.6 2.5 3.9 1.1]\n",
            " [5.9 3.2 4.8 1.8]\n",
            " [6.1 2.8 4.  1.3]\n",
            " [6.3 2.5 4.9 1.5]\n",
            " [6.1 2.8 4.7 1.2]\n",
            " [6.4 2.9 4.3 1.3]\n",
            " [6.6 3.  4.4 1.4]\n",
            " [6.8 2.8 4.8 1.4]\n",
            " [6.7 3.  5.  1.7]\n",
            " [6.  2.9 4.5 1.5]\n",
            " [5.7 2.6 3.5 1. ]\n",
            " [5.5 2.4 3.8 1.1]\n",
            " [5.5 2.4 3.7 1. ]\n",
            " [5.8 2.7 3.9 1.2]\n",
            " [6.  2.7 5.1 1.6]\n",
            " [5.4 3.  4.5 1.5]\n",
            " [6.  3.4 4.5 1.6]\n",
            " [6.7 3.1 4.7 1.5]\n",
            " [6.3 2.3 4.4 1.3]\n",
            " [5.6 3.  4.1 1.3]\n",
            " [5.5 2.5 4.  1.3]\n",
            " [5.5 2.6 4.4 1.2]\n",
            " [6.1 3.  4.6 1.4]\n",
            " [5.8 2.6 4.  1.2]\n",
            " [5.  2.3 3.3 1. ]\n",
            " [5.6 2.7 4.2 1.3]\n",
            " [5.7 3.  4.2 1.2]\n",
            " [5.7 2.9 4.2 1.3]\n",
            " [6.2 2.9 4.3 1.3]\n",
            " [5.1 2.5 3.  1.1]\n",
            " [5.7 2.8 4.1 1.3]\n",
            " [6.3 3.3 6.  2.5]\n",
            " [5.8 2.7 5.1 1.9]\n",
            " [7.1 3.  5.9 2.1]\n",
            " [6.3 2.9 5.6 1.8]\n",
            " [6.5 3.  5.8 2.2]\n",
            " [7.6 3.  6.6 2.1]\n",
            " [4.9 2.5 4.5 1.7]\n",
            " [7.3 2.9 6.3 1.8]\n",
            " [6.7 2.5 5.8 1.8]\n",
            " [7.2 3.6 6.1 2.5]\n",
            " [6.5 3.2 5.1 2. ]\n",
            " [6.4 2.7 5.3 1.9]\n",
            " [6.8 3.  5.5 2.1]\n",
            " [5.7 2.5 5.  2. ]\n",
            " [5.8 2.8 5.1 2.4]\n",
            " [6.4 3.2 5.3 2.3]\n",
            " [6.5 3.  5.5 1.8]\n",
            " [7.7 3.8 6.7 2.2]\n",
            " [7.7 2.6 6.9 2.3]\n",
            " [6.  2.2 5.  1.5]\n",
            " [6.9 3.2 5.7 2.3]\n",
            " [5.6 2.8 4.9 2. ]\n",
            " [7.7 2.8 6.7 2. ]\n",
            " [6.3 2.7 4.9 1.8]\n",
            " [6.7 3.3 5.7 2.1]\n",
            " [7.2 3.2 6.  1.8]\n",
            " [6.2 2.8 4.8 1.8]\n",
            " [6.1 3.  4.9 1.8]\n",
            " [6.4 2.8 5.6 2.1]\n",
            " [7.2 3.  5.8 1.6]\n",
            " [7.4 2.8 6.1 1.9]\n",
            " [7.9 3.8 6.4 2. ]\n",
            " [6.4 2.8 5.6 2.2]\n",
            " [6.3 2.8 5.1 1.5]\n",
            " [6.1 2.6 5.6 1.4]\n",
            " [7.7 3.  6.1 2.3]\n",
            " [6.3 3.4 5.6 2.4]\n",
            " [6.4 3.1 5.5 1.8]\n",
            " [6.  3.  4.8 1.8]\n",
            " [6.9 3.1 5.4 2.1]\n",
            " [6.7 3.1 5.6 2.4]\n",
            " [6.9 3.1 5.1 2.3]\n",
            " [5.8 2.7 5.1 1.9]\n",
            " [6.8 3.2 5.9 2.3]\n",
            " [6.7 3.3 5.7 2.5]\n",
            " [6.7 3.  5.2 2.3]\n",
            " [6.3 2.5 5.  1.9]\n",
            " [6.5 3.  5.2 2. ]\n",
            " [6.2 3.4 5.4 2.3]\n",
            " [5.9 3.  5.1 1.8]]\n",
            "['sepal length (cm)', 'sepal width (cm)', 'petal length (cm)', 'petal width (cm)']\n",
            "/usr/local/lib/python3.6/dist-packages/sklearn/datasets/data/iris.csv\n",
            "[0 0 0 0 0 0 0 0 0 0 0 0 0 0 0 0 0 0 0 0 0 0 0 0 0 0 0 0 0 0 0 0 0 0 0 0 0\n",
            " 0 0 0 0 0 0 0 0 0 0 0 0 0 1 1 1 1 1 1 1 1 1 1 1 1 1 1 1 1 1 1 1 1 1 1 1 1\n",
            " 1 1 1 1 1 1 1 1 1 1 1 1 1 1 1 1 1 1 1 1 1 1 1 1 1 1 2 2 2 2 2 2 2 2 2 2 2\n",
            " 2 2 2 2 2 2 2 2 2 2 2 2 2 2 2 2 2 2 2 2 2 2 2 2 2 2 2 2 2 2 2 2 2 2 2 2 2\n",
            " 2 2]\n",
            "['setosa' 'versicolor' 'virginica']\n"
          ],
          "name": "stdout"
        }
      ]
    },
    {
      "cell_type": "markdown",
      "metadata": {
        "id": "I3QDKe0cF7hS",
        "colab_type": "text"
      },
      "source": [
        "Analyser les 5 premieres et 5 derniers enregistrements.\n",
        "LEs données sont dans \"data\" \n",
        "\n",
        "l'échantillon de fleurs propose plusieurs informations:\n",
        "\n",
        "Les noms des données disponibles : feature_names\n",
        "\n",
        "Les mesures réalisées sur l'échantillon de fleurs connues et déjà classées : data\n",
        "Il s'agit de nos informations, des paramètres de nos vecteurs pour chaque fleur\n",
        "Le nom de chaque espèce : target_names\n",
        "Le classement de chaque enregistrement data dans son espèce: target (cluster)\n"
      ]
    },
    {
      "cell_type": "code",
      "metadata": {
        "id": "340BlTSNT9pA",
        "colab_type": "code",
        "outputId": "095f7b09-6f40-4a37-abe8-6e039f7e9ab3",
        "colab": {
          "base_uri": "https://localhost:8080/",
          "height": 1000
        }
      },
      "source": [
        "data = iris.data\n",
        "target = iris.target\n",
        "dataList = data.tolist()\n",
        "data"
      ],
      "execution_count": 0,
      "outputs": [
        {
          "output_type": "execute_result",
          "data": {
            "text/plain": [
              "array([[5.1, 3.5, 1.4, 0.2],\n",
              "       [4.9, 3. , 1.4, 0.2],\n",
              "       [4.7, 3.2, 1.3, 0.2],\n",
              "       [4.6, 3.1, 1.5, 0.2],\n",
              "       [5. , 3.6, 1.4, 0.2],\n",
              "       [5.4, 3.9, 1.7, 0.4],\n",
              "       [4.6, 3.4, 1.4, 0.3],\n",
              "       [5. , 3.4, 1.5, 0.2],\n",
              "       [4.4, 2.9, 1.4, 0.2],\n",
              "       [4.9, 3.1, 1.5, 0.1],\n",
              "       [5.4, 3.7, 1.5, 0.2],\n",
              "       [4.8, 3.4, 1.6, 0.2],\n",
              "       [4.8, 3. , 1.4, 0.1],\n",
              "       [4.3, 3. , 1.1, 0.1],\n",
              "       [5.8, 4. , 1.2, 0.2],\n",
              "       [5.7, 4.4, 1.5, 0.4],\n",
              "       [5.4, 3.9, 1.3, 0.4],\n",
              "       [5.1, 3.5, 1.4, 0.3],\n",
              "       [5.7, 3.8, 1.7, 0.3],\n",
              "       [5.1, 3.8, 1.5, 0.3],\n",
              "       [5.4, 3.4, 1.7, 0.2],\n",
              "       [5.1, 3.7, 1.5, 0.4],\n",
              "       [4.6, 3.6, 1. , 0.2],\n",
              "       [5.1, 3.3, 1.7, 0.5],\n",
              "       [4.8, 3.4, 1.9, 0.2],\n",
              "       [5. , 3. , 1.6, 0.2],\n",
              "       [5. , 3.4, 1.6, 0.4],\n",
              "       [5.2, 3.5, 1.5, 0.2],\n",
              "       [5.2, 3.4, 1.4, 0.2],\n",
              "       [4.7, 3.2, 1.6, 0.2],\n",
              "       [4.8, 3.1, 1.6, 0.2],\n",
              "       [5.4, 3.4, 1.5, 0.4],\n",
              "       [5.2, 4.1, 1.5, 0.1],\n",
              "       [5.5, 4.2, 1.4, 0.2],\n",
              "       [4.9, 3.1, 1.5, 0.2],\n",
              "       [5. , 3.2, 1.2, 0.2],\n",
              "       [5.5, 3.5, 1.3, 0.2],\n",
              "       [4.9, 3.6, 1.4, 0.1],\n",
              "       [4.4, 3. , 1.3, 0.2],\n",
              "       [5.1, 3.4, 1.5, 0.2],\n",
              "       [5. , 3.5, 1.3, 0.3],\n",
              "       [4.5, 2.3, 1.3, 0.3],\n",
              "       [4.4, 3.2, 1.3, 0.2],\n",
              "       [5. , 3.5, 1.6, 0.6],\n",
              "       [5.1, 3.8, 1.9, 0.4],\n",
              "       [4.8, 3. , 1.4, 0.3],\n",
              "       [5.1, 3.8, 1.6, 0.2],\n",
              "       [4.6, 3.2, 1.4, 0.2],\n",
              "       [5.3, 3.7, 1.5, 0.2],\n",
              "       [5. , 3.3, 1.4, 0.2],\n",
              "       [7. , 3.2, 4.7, 1.4],\n",
              "       [6.4, 3.2, 4.5, 1.5],\n",
              "       [6.9, 3.1, 4.9, 1.5],\n",
              "       [5.5, 2.3, 4. , 1.3],\n",
              "       [6.5, 2.8, 4.6, 1.5],\n",
              "       [5.7, 2.8, 4.5, 1.3],\n",
              "       [6.3, 3.3, 4.7, 1.6],\n",
              "       [4.9, 2.4, 3.3, 1. ],\n",
              "       [6.6, 2.9, 4.6, 1.3],\n",
              "       [5.2, 2.7, 3.9, 1.4],\n",
              "       [5. , 2. , 3.5, 1. ],\n",
              "       [5.9, 3. , 4.2, 1.5],\n",
              "       [6. , 2.2, 4. , 1. ],\n",
              "       [6.1, 2.9, 4.7, 1.4],\n",
              "       [5.6, 2.9, 3.6, 1.3],\n",
              "       [6.7, 3.1, 4.4, 1.4],\n",
              "       [5.6, 3. , 4.5, 1.5],\n",
              "       [5.8, 2.7, 4.1, 1. ],\n",
              "       [6.2, 2.2, 4.5, 1.5],\n",
              "       [5.6, 2.5, 3.9, 1.1],\n",
              "       [5.9, 3.2, 4.8, 1.8],\n",
              "       [6.1, 2.8, 4. , 1.3],\n",
              "       [6.3, 2.5, 4.9, 1.5],\n",
              "       [6.1, 2.8, 4.7, 1.2],\n",
              "       [6.4, 2.9, 4.3, 1.3],\n",
              "       [6.6, 3. , 4.4, 1.4],\n",
              "       [6.8, 2.8, 4.8, 1.4],\n",
              "       [6.7, 3. , 5. , 1.7],\n",
              "       [6. , 2.9, 4.5, 1.5],\n",
              "       [5.7, 2.6, 3.5, 1. ],\n",
              "       [5.5, 2.4, 3.8, 1.1],\n",
              "       [5.5, 2.4, 3.7, 1. ],\n",
              "       [5.8, 2.7, 3.9, 1.2],\n",
              "       [6. , 2.7, 5.1, 1.6],\n",
              "       [5.4, 3. , 4.5, 1.5],\n",
              "       [6. , 3.4, 4.5, 1.6],\n",
              "       [6.7, 3.1, 4.7, 1.5],\n",
              "       [6.3, 2.3, 4.4, 1.3],\n",
              "       [5.6, 3. , 4.1, 1.3],\n",
              "       [5.5, 2.5, 4. , 1.3],\n",
              "       [5.5, 2.6, 4.4, 1.2],\n",
              "       [6.1, 3. , 4.6, 1.4],\n",
              "       [5.8, 2.6, 4. , 1.2],\n",
              "       [5. , 2.3, 3.3, 1. ],\n",
              "       [5.6, 2.7, 4.2, 1.3],\n",
              "       [5.7, 3. , 4.2, 1.2],\n",
              "       [5.7, 2.9, 4.2, 1.3],\n",
              "       [6.2, 2.9, 4.3, 1.3],\n",
              "       [5.1, 2.5, 3. , 1.1],\n",
              "       [5.7, 2.8, 4.1, 1.3],\n",
              "       [6.3, 3.3, 6. , 2.5],\n",
              "       [5.8, 2.7, 5.1, 1.9],\n",
              "       [7.1, 3. , 5.9, 2.1],\n",
              "       [6.3, 2.9, 5.6, 1.8],\n",
              "       [6.5, 3. , 5.8, 2.2],\n",
              "       [7.6, 3. , 6.6, 2.1],\n",
              "       [4.9, 2.5, 4.5, 1.7],\n",
              "       [7.3, 2.9, 6.3, 1.8],\n",
              "       [6.7, 2.5, 5.8, 1.8],\n",
              "       [7.2, 3.6, 6.1, 2.5],\n",
              "       [6.5, 3.2, 5.1, 2. ],\n",
              "       [6.4, 2.7, 5.3, 1.9],\n",
              "       [6.8, 3. , 5.5, 2.1],\n",
              "       [5.7, 2.5, 5. , 2. ],\n",
              "       [5.8, 2.8, 5.1, 2.4],\n",
              "       [6.4, 3.2, 5.3, 2.3],\n",
              "       [6.5, 3. , 5.5, 1.8],\n",
              "       [7.7, 3.8, 6.7, 2.2],\n",
              "       [7.7, 2.6, 6.9, 2.3],\n",
              "       [6. , 2.2, 5. , 1.5],\n",
              "       [6.9, 3.2, 5.7, 2.3],\n",
              "       [5.6, 2.8, 4.9, 2. ],\n",
              "       [7.7, 2.8, 6.7, 2. ],\n",
              "       [6.3, 2.7, 4.9, 1.8],\n",
              "       [6.7, 3.3, 5.7, 2.1],\n",
              "       [7.2, 3.2, 6. , 1.8],\n",
              "       [6.2, 2.8, 4.8, 1.8],\n",
              "       [6.1, 3. , 4.9, 1.8],\n",
              "       [6.4, 2.8, 5.6, 2.1],\n",
              "       [7.2, 3. , 5.8, 1.6],\n",
              "       [7.4, 2.8, 6.1, 1.9],\n",
              "       [7.9, 3.8, 6.4, 2. ],\n",
              "       [6.4, 2.8, 5.6, 2.2],\n",
              "       [6.3, 2.8, 5.1, 1.5],\n",
              "       [6.1, 2.6, 5.6, 1.4],\n",
              "       [7.7, 3. , 6.1, 2.3],\n",
              "       [6.3, 3.4, 5.6, 2.4],\n",
              "       [6.4, 3.1, 5.5, 1.8],\n",
              "       [6. , 3. , 4.8, 1.8],\n",
              "       [6.9, 3.1, 5.4, 2.1],\n",
              "       [6.7, 3.1, 5.6, 2.4],\n",
              "       [6.9, 3.1, 5.1, 2.3],\n",
              "       [5.8, 2.7, 5.1, 1.9],\n",
              "       [6.8, 3.2, 5.9, 2.3],\n",
              "       [6.7, 3.3, 5.7, 2.5],\n",
              "       [6.7, 3. , 5.2, 2.3],\n",
              "       [6.3, 2.5, 5. , 1.9],\n",
              "       [6.5, 3. , 5.2, 2. ],\n",
              "       [6.2, 3.4, 5.4, 2.3],\n",
              "       [5.9, 3. , 5.1, 1.8]])"
            ]
          },
          "metadata": {
            "tags": []
          },
          "execution_count": 266
        }
      ]
    },
    {
      "cell_type": "code",
      "metadata": {
        "id": "wuwuSVRHBxGU",
        "colab_type": "code",
        "outputId": "d38dc076-7cc6-4866-896f-ec2506374976",
        "colab": {
          "base_uri": "https://localhost:8080/",
          "height": 219
        }
      },
      "source": [
        "print(iris.feature_names)\n",
        "for i, element in enumerate(dataList):\n",
        "  if(i < 10 or i >= len(dataList)):\n",
        "    print(element)\n",
        "\n"
      ],
      "execution_count": 0,
      "outputs": [
        {
          "output_type": "stream",
          "text": [
            "['sepal length (cm)', 'sepal width (cm)', 'petal length (cm)', 'petal width (cm)']\n",
            "[5.1, 3.5, 1.4, 0.2]\n",
            "[4.9, 3.0, 1.4, 0.2]\n",
            "[4.7, 3.2, 1.3, 0.2]\n",
            "[4.6, 3.1, 1.5, 0.2]\n",
            "[5.0, 3.6, 1.4, 0.2]\n",
            "[5.4, 3.9, 1.7, 0.4]\n",
            "[4.6, 3.4, 1.4, 0.3]\n",
            "[5.0, 3.4, 1.5, 0.2]\n",
            "[4.4, 2.9, 1.4, 0.2]\n",
            "[4.9, 3.1, 1.5, 0.1]\n"
          ],
          "name": "stdout"
        }
      ]
    },
    {
      "cell_type": "markdown",
      "metadata": {
        "id": "aUx264kKBxGY",
        "colab_type": "text"
      },
      "source": [
        "Analyser vos labels de classification : \n",
        "Combien en avez-vous?\n",
        "Quel est le type de target_names?\n",
        "\n",
        "Pour rappel, targets sont un tableau indiquant le numéro de l'espèce de chaque enregistrement:"
      ]
    },
    {
      "cell_type": "markdown",
      "metadata": {
        "id": "YxzjrHYdJTS0",
        "colab_type": "text"
      },
      "source": [
        "Nous avons 4 labels différents pour définir les propriétés des données. \n",
        "Ces labels sont exprimés en centimètres et représentent la longueur et la largeur des sépales et des pétales."
      ]
    },
    {
      "cell_type": "code",
      "metadata": {
        "id": "Hm0l3TLZBxGZ",
        "colab_type": "code",
        "outputId": "c3024d8a-3868-4345-b540-ba71f75af814",
        "colab": {
          "base_uri": "https://localhost:8080/",
          "height": 146
        }
      },
      "source": [
        "target"
      ],
      "execution_count": 0,
      "outputs": [
        {
          "output_type": "execute_result",
          "data": {
            "text/plain": [
              "array([0, 0, 0, 0, 0, 0, 0, 0, 0, 0, 0, 0, 0, 0, 0, 0, 0, 0, 0, 0, 0, 0,\n",
              "       0, 0, 0, 0, 0, 0, 0, 0, 0, 0, 0, 0, 0, 0, 0, 0, 0, 0, 0, 0, 0, 0,\n",
              "       0, 0, 0, 0, 0, 0, 1, 1, 1, 1, 1, 1, 1, 1, 1, 1, 1, 1, 1, 1, 1, 1,\n",
              "       1, 1, 1, 1, 1, 1, 1, 1, 1, 1, 1, 1, 1, 1, 1, 1, 1, 1, 1, 1, 1, 1,\n",
              "       1, 1, 1, 1, 1, 1, 1, 1, 1, 1, 1, 1, 2, 2, 2, 2, 2, 2, 2, 2, 2, 2,\n",
              "       2, 2, 2, 2, 2, 2, 2, 2, 2, 2, 2, 2, 2, 2, 2, 2, 2, 2, 2, 2, 2, 2,\n",
              "       2, 2, 2, 2, 2, 2, 2, 2, 2, 2, 2, 2, 2, 2, 2, 2, 2, 2])"
            ]
          },
          "metadata": {
            "tags": []
          },
          "execution_count": 268
        }
      ]
    },
    {
      "cell_type": "markdown",
      "metadata": {
        "id": "KVBw2d-HBxGh",
        "colab_type": "text"
      },
      "source": [
        "Création d'une variable target pour un accès plus facile à cet attribut.\n"
      ]
    },
    {
      "cell_type": "markdown",
      "metadata": {
        "id": "oE12Gtp__b7j",
        "colab_type": "text"
      },
      "source": [
        "Donner un apperu/réumé du jeu de données\n",
        "pesner à la fonction DESC : describe comme dans le BDD"
      ]
    },
    {
      "cell_type": "code",
      "metadata": {
        "id": "8tazezvKBxGp",
        "colab_type": "code",
        "outputId": "acf277c2-cb7a-45a1-8c3b-02778d65ff64",
        "colab": {
          "base_uri": "https://localhost:8080/",
          "height": 1000
        }
      },
      "source": [
        "print(iris.DESCR)\n"
      ],
      "execution_count": 0,
      "outputs": [
        {
          "output_type": "stream",
          "text": [
            ".. _iris_dataset:\n",
            "\n",
            "Iris plants dataset\n",
            "--------------------\n",
            "\n",
            "**Data Set Characteristics:**\n",
            "\n",
            "    :Number of Instances: 150 (50 in each of three classes)\n",
            "    :Number of Attributes: 4 numeric, predictive attributes and the class\n",
            "    :Attribute Information:\n",
            "        - sepal length in cm\n",
            "        - sepal width in cm\n",
            "        - petal length in cm\n",
            "        - petal width in cm\n",
            "        - class:\n",
            "                - Iris-Setosa\n",
            "                - Iris-Versicolour\n",
            "                - Iris-Virginica\n",
            "                \n",
            "    :Summary Statistics:\n",
            "\n",
            "    ============== ==== ==== ======= ===== ====================\n",
            "                    Min  Max   Mean    SD   Class Correlation\n",
            "    ============== ==== ==== ======= ===== ====================\n",
            "    sepal length:   4.3  7.9   5.84   0.83    0.7826\n",
            "    sepal width:    2.0  4.4   3.05   0.43   -0.4194\n",
            "    petal length:   1.0  6.9   3.76   1.76    0.9490  (high!)\n",
            "    petal width:    0.1  2.5   1.20   0.76    0.9565  (high!)\n",
            "    ============== ==== ==== ======= ===== ====================\n",
            "\n",
            "    :Missing Attribute Values: None\n",
            "    :Class Distribution: 33.3% for each of 3 classes.\n",
            "    :Creator: R.A. Fisher\n",
            "    :Donor: Michael Marshall (MARSHALL%PLU@io.arc.nasa.gov)\n",
            "    :Date: July, 1988\n",
            "\n",
            "The famous Iris database, first used by Sir R.A. Fisher. The dataset is taken\n",
            "from Fisher's paper. Note that it's the same as in R, but not as in the UCI\n",
            "Machine Learning Repository, which has two wrong data points.\n",
            "\n",
            "This is perhaps the best known database to be found in the\n",
            "pattern recognition literature.  Fisher's paper is a classic in the field and\n",
            "is referenced frequently to this day.  (See Duda & Hart, for example.)  The\n",
            "data set contains 3 classes of 50 instances each, where each class refers to a\n",
            "type of iris plant.  One class is linearly separable from the other 2; the\n",
            "latter are NOT linearly separable from each other.\n",
            "\n",
            ".. topic:: References\n",
            "\n",
            "   - Fisher, R.A. \"The use of multiple measurements in taxonomic problems\"\n",
            "     Annual Eugenics, 7, Part II, 179-188 (1936); also in \"Contributions to\n",
            "     Mathematical Statistics\" (John Wiley, NY, 1950).\n",
            "   - Duda, R.O., & Hart, P.E. (1973) Pattern Classification and Scene Analysis.\n",
            "     (Q327.D83) John Wiley & Sons.  ISBN 0-471-22361-1.  See page 218.\n",
            "   - Dasarathy, B.V. (1980) \"Nosing Around the Neighborhood: A New System\n",
            "     Structure and Classification Rule for Recognition in Partially Exposed\n",
            "     Environments\".  IEEE Transactions on Pattern Analysis and Machine\n",
            "     Intelligence, Vol. PAMI-2, No. 1, 67-71.\n",
            "   - Gates, G.W. (1972) \"The Reduced Nearest Neighbor Rule\".  IEEE Transactions\n",
            "     on Information Theory, May 1972, 431-433.\n",
            "   - See also: 1988 MLC Proceedings, 54-64.  Cheeseman et al\"s AUTOCLASS II\n",
            "     conceptual clustering system finds 3 classes in the data.\n",
            "   - Many, many more ...\n"
          ],
          "name": "stdout"
        }
      ]
    },
    {
      "cell_type": "markdown",
      "metadata": {
        "id": "7HaX80Rc_ZfE",
        "colab_type": "text"
      },
      "source": [
        "Vérifiez que nous avon bien:\n",
        "iris.data de formet tableau numpy \n",
        " de 2 dimensions  et\n",
        "de 150 enregistrements de 4 valeurs\n"
      ]
    },
    {
      "cell_type": "code",
      "metadata": {
        "id": "0wjVhL8vBxGx",
        "colab_type": "code",
        "outputId": "ebe7591d-0b19-4241-9efe-73f8cbb6b262",
        "colab": {
          "base_uri": "https://localhost:8080/",
          "height": 35
        }
      },
      "source": [
        "type(data), data.ndim, data.shape"
      ],
      "execution_count": 0,
      "outputs": [
        {
          "output_type": "execute_result",
          "data": {
            "text/plain": [
              "(numpy.ndarray, 2, (150, 4))"
            ]
          },
          "metadata": {
            "tags": []
          },
          "execution_count": 270
        }
      ]
    },
    {
      "cell_type": "markdown",
      "metadata": {
        "id": "lO_crzl9BxG_",
        "colab_type": "text"
      },
      "source": [
        "quel est le nombres d'instance dans chaque classe?\n",
        "qu'en pensez-vous?"
      ]
    },
    {
      "cell_type": "code",
      "metadata": {
        "id": "4yD_QILZBxG_",
        "colab_type": "code",
        "outputId": "6e01fd52-f4ae-475b-9acf-0245d905cd8e",
        "colab": {
          "base_uri": "https://localhost:8080/",
          "height": 72
        }
      },
      "source": [
        "for i in [0,1,2]:\n",
        "    print(\"classe : %s, nb exemplaires: %s\" % (i, len(target[ target == i]) ) )"
      ],
      "execution_count": 0,
      "outputs": [
        {
          "output_type": "stream",
          "text": [
            "classe : 0, nb exemplaires: 50\n",
            "classe : 1, nb exemplaires: 50\n",
            "classe : 2, nb exemplaires: 50\n"
          ],
          "name": "stdout"
        }
      ]
    },
    {
      "cell_type": "markdown",
      "metadata": {
        "id": "yh9hLd-cRdDP",
        "colab_type": "text"
      },
      "source": [
        "**Nombre de données par classe limité pour une manipulation simplifiée des données\n",
        "Ces données d'entraînements classées par groupe seront confrontées avec nos futurs modèles de prédiction qui seront au nombre de 3, un pour chaque type de fleur à reconnaître**"
      ]
    },
    {
      "cell_type": "markdown",
      "metadata": {
        "id": "84AoUSiNBxHI",
        "colab_type": "text"
      },
      "source": [
        "Affichage en grahe \n",
        "https://matplotlib.org/3.2.1/api/_as_gen/matplotlib.pyplot.subplot.html"
      ]
    },
    {
      "cell_type": "code",
      "metadata": {
        "id": "3F-XN2jzBxHK",
        "colab_type": "code",
        "colab": {}
      },
      "source": [
        "import matplotlib.pyplot as plt\n",
        "import matplotlib as mpl\n",
        "import numpy as np"
      ],
      "execution_count": 0,
      "outputs": []
    },
    {
      "cell_type": "markdown",
      "metadata": {
        "id": "dKbI_uBYBxHM",
        "colab_type": "text"
      },
      "source": [
        "Dimentionnement de votre graphique \n",
        "https://matplotlib.org/3.2.1/api/_as_gen/matplotlib.axes.Axes.set_adjustable.html#matplotlib.axes.Axes.set_adjustable"
      ]
    },
    {
      "cell_type": "markdown",
      "metadata": {
        "id": "-J93S4_lBxHS",
        "colab_type": "text"
      },
      "source": [
        "Rappelons que nous avons 3 targets dans ce jeu de données"
      ]
    },
    {
      "cell_type": "markdown",
      "metadata": {
        "id": "7aH8LXY8BxHT",
        "colab_type": "text"
      },
      "source": [
        "Affecter une couleur à chaque nom de label.\n",
        "Nous aurons trois couleurs car nous avons trois classes\n"
      ]
    },
    {
      "cell_type": "markdown",
      "metadata": {
        "id": "JYQeS8Rc_WLl",
        "colab_type": "text"
      },
      "source": [
        "Visualiser sur le premier graphe (subplot) les informations du premier element que posséde la plante \n",
        "on attend un nuage de points"
      ]
    },
    {
      "cell_type": "code",
      "metadata": {
        "id": "tvGv5uWkBxHd",
        "colab_type": "code",
        "outputId": "f8276a39-362f-470c-b68a-5bfa5ec838bc",
        "colab": {
          "base_uri": "https://localhost:8080/",
          "height": 287
        }
      },
      "source": [
        "fig = plt.figure(figsize=(8, 4))\n",
        "fig.subplots_adjust(hspace=0.4, wspace=0.4)\n",
        "ax1 = plt.subplot(1,2,1)\n",
        "\n",
        "clist = ['violet', 'yellow', 'blue']\n",
        "colors = [clist[c] for c in iris.target]\n",
        "\n",
        "ax1.scatter(data[:, 0], data[:, 1], c=colors)\n",
        "ax1.set_adjustable('datalim', share=False)\n",
        "plt.xlabel('Longueur du sepal (cm)')\n",
        "plt.ylabel('Largueur du sepal (cm)')\n",
        "\n",
        "ax2 = plt.subplot(1,2,2)\n",
        "\n",
        "ax2.scatter(data[:, 2], data[:, 3], color=colors)\n",
        "\n",
        "plt.xlabel('Longueur du petal (cm)')\n",
        "plt.ylabel('Largueur du petal (cm)')\n",
        "\n",
        "# Légende\n",
        "for ind, s in enumerate(iris.target_names):\n",
        "    # on dessine de faux points, car la légende n'affiche que les points ayant un label\n",
        "    plt.scatter([], [], label=s, color=clist[ind])\n",
        "\n",
        "plt.legend(scatterpoints=1, frameon=False, labelspacing=1\n",
        "           , bbox_to_anchor=(1.8, .5) , loc=\"center right\", title='Espèces')\n",
        "plt.plot();\n"
      ],
      "execution_count": 0,
      "outputs": [
        {
          "output_type": "display_data",
          "data": {
            "image/png": "[encoded data removed]",
            "text/plain": [
              "<Figure size 576x288 with 2 Axes>"
            ]
          },
          "metadata": {
            "tags": []
          }
        }
      ]
    },
    {
      "cell_type": "markdown",
      "metadata": {
        "id": "fMAzs25sBxHl",
        "colab_type": "text"
      },
      "source": [
        "Visualiser avec  avec Seaborn\n",
        "https://seaborn.pydata.org/\n",
        "\n",
        "Concatener les données DATA avec les données de target (voir plus haut target = iris.target )"
      ]
    },
    {
      "cell_type": "markdown",
      "metadata": {
        "id": "uNwgMQio_RYk",
        "colab_type": "text"
      },
      "source": [
        "Maintenant ajouter une colonnes label pour indiquer le nom du label"
      ]
    },
    {
      "cell_type": "code",
      "metadata": {
        "id": "kdob0qVhBxHr",
        "colab_type": "code",
        "outputId": "97395e00-b0c9-4b94-fdc5-72754fd8a277",
        "colab": {
          "base_uri": "https://localhost:8080/",
          "height": 206
        }
      },
      "source": [
        "df = pd.DataFrame(data, columns=iris['feature_names'] )\n",
        "df['target'] = target\n",
        "df['label'] = df.apply(lambda x: iris['target_names'][int(x.target)], axis=1)\n",
        "\n",
        "df.head()"
      ],
      "execution_count": 0,
      "outputs": [
        {
          "output_type": "execute_result",
          "data": {
            "text/html": [
              "<div>\n",
              "<style scoped>\n",
              "    .dataframe tbody tr th:only-of-type {\n",
              "        vertical-align: middle;\n",
              "    }\n",
              "\n",
              "    .dataframe tbody tr th {\n",
              "        vertical-align: top;\n",
              "    }\n",
              "\n",
              "    .dataframe thead th {\n",
              "        text-align: right;\n",
              "    }\n",
              "</style>\n",
              "<table border=\"1\" class=\"dataframe\">\n",
              "  <thead>\n",
              "    <tr style=\"text-align: right;\">\n",
              "      <th></th>\n",
              "      <th>sepal length (cm)</th>\n",
              "      <th>sepal width (cm)</th>\n",
              "      <th>petal length (cm)</th>\n",
              "      <th>petal width (cm)</th>\n",
              "      <th>target</th>\n",
              "      <th>label</th>\n",
              "    </tr>\n",
              "  </thead>\n",
              "  <tbody>\n",
              "    <tr>\n",
              "      <th>0</th>\n",
              "      <td>5.1</td>\n",
              "      <td>3.5</td>\n",
              "      <td>1.4</td>\n",
              "      <td>0.2</td>\n",
              "      <td>0</td>\n",
              "      <td>setosa</td>\n",
              "    </tr>\n",
              "    <tr>\n",
              "      <th>1</th>\n",
              "      <td>4.9</td>\n",
              "      <td>3.0</td>\n",
              "      <td>1.4</td>\n",
              "      <td>0.2</td>\n",
              "      <td>0</td>\n",
              "      <td>setosa</td>\n",
              "    </tr>\n",
              "    <tr>\n",
              "      <th>2</th>\n",
              "      <td>4.7</td>\n",
              "      <td>3.2</td>\n",
              "      <td>1.3</td>\n",
              "      <td>0.2</td>\n",
              "      <td>0</td>\n",
              "      <td>setosa</td>\n",
              "    </tr>\n",
              "    <tr>\n",
              "      <th>3</th>\n",
              "      <td>4.6</td>\n",
              "      <td>3.1</td>\n",
              "      <td>1.5</td>\n",
              "      <td>0.2</td>\n",
              "      <td>0</td>\n",
              "      <td>setosa</td>\n",
              "    </tr>\n",
              "    <tr>\n",
              "      <th>4</th>\n",
              "      <td>5.0</td>\n",
              "      <td>3.6</td>\n",
              "      <td>1.4</td>\n",
              "      <td>0.2</td>\n",
              "      <td>0</td>\n",
              "      <td>setosa</td>\n",
              "    </tr>\n",
              "  </tbody>\n",
              "</table>\n",
              "</div>"
            ],
            "text/plain": [
              "   sepal length (cm)  sepal width (cm)  ...  target   label\n",
              "0                5.1               3.5  ...       0  setosa\n",
              "1                4.9               3.0  ...       0  setosa\n",
              "2                4.7               3.2  ...       0  setosa\n",
              "3                4.6               3.1  ...       0  setosa\n",
              "4                5.0               3.6  ...       0  setosa\n",
              "\n",
              "[5 rows x 6 columns]"
            ]
          },
          "metadata": {
            "tags": []
          },
          "execution_count": 274
        }
      ]
    },
    {
      "cell_type": "markdown",
      "metadata": {
        "id": "sNQZXLRoBxH2",
        "colab_type": "text"
      },
      "source": [
        "Déssiner les graphiques des répartitions des données par paires.\n",
        "Nous aurons 4 * 4 graphes \n",
        "\n",
        "https://medium.com/@kenzaharifi/bien-comprendre-lalgorithme-des-k-plus-proches-voisins-fonctionnement-et-impl%C3%A9mentation-sur-r-et-a66d2d372679\n",
        "\n",
        "Penser à pairplot ()"
      ]
    },
    {
      "cell_type": "code",
      "metadata": {
        "id": "t0NESOnvBxH2",
        "colab_type": "code",
        "outputId": "4369df07-8f70-410f-e2cb-87bb6130c653",
        "colab": {
          "base_uri": "https://localhost:8080/",
          "height": 603
        }
      },
      "source": [
        "import seaborn as sns\n",
        "sns.set()\n",
        "sns.pairplot(df, hue='label', vars=iris['feature_names'], height=2);"
      ],
      "execution_count": 0,
      "outputs": [
        {
          "output_type": "display_data",
          "data": {
            "image/png": "[encoded data removed]",
            "text/plain": [
              "<Figure size 669.85x576 with 20 Axes>"
            ]
          },
          "metadata": {
            "tags": []
          }
        }
      ]
    },
    {
      "cell_type": "markdown",
      "metadata": {
        "id": "-9gAi2W8BxH9",
        "colab_type": "text"
      },
      "source": [
        "<h1>EXERCICE 2 - l'apprentissage de données supervisées - KNN </H2>\n",
        "\n",
        "# Réalisé séparément et confrontation de nos travaux"
      ]
    },
    {
      "cell_type": "markdown",
      "metadata": {
        "id": "LMOezzMHBxH-",
        "colab_type": "text"
      },
      "source": [
        "<H3>Le but ici est de comprendre par la pratuque le fonctionnement de KNN </H3>"
      ]
    },
    {
      "cell_type": "code",
      "metadata": {
        "id": "kJSnOqonBxIB",
        "colab_type": "code",
        "colab": {}
      },
      "source": [
        "#https://github.com/DHummel-Price/knntutorial/blob/master/Archived_KNN-Tutorial-Copy1.ipynb\n",
        "## Import necessary libraries\n",
        "import pandas as pd\n",
        "import numpy as np\n",
        "import matplotlib.pyplot as plt\n",
        "from sklearn.neighbors import KNeighborsClassifier\n",
        "from sklearn.metrics import accuracy_score\n",
        "from sklearn.model_selection import cross_val_score, validation_curve, learning_curve, train_test_split\n",
        "from sklearn.metrics import roc_curve, auc"
      ],
      "execution_count": 0,
      "outputs": []
    },
    {
      "cell_type": "markdown",
      "metadata": {
        "id": "2YTirIg0BxIE",
        "colab_type": "text"
      },
      "source": [
        "1. ans un peremier temps, nous construisons un data articficiel representant des étudiants\n",
        "\n",
        "groupa = [(1,3.2),(2,2.6),(3,3.1),(1,2.6),(3,3.8),(1,1.9),(3,2.0),(1,2.5),(2,3.3),(6,3.1),(3,2.4),(1,2.3),(2,1.8),(2,2.2),(3,2.7),(8,3.0),(7,2.3)]\n",
        "\n",
        "groupb = [(6,1.6),(8,3.4),(8,4.0),(6,1.4),(7,3.9),(9,3.85),(4,3.5),(5,1.1),  (2,3.1),(8,2.5),(7,3.0),(6,2.4),(5,2.6),(6,4.0),(5,1.7),(2,1.4),(7,2.4),(7,1.8),(9,3.3),(9,2.6)]\n",
        "    \n",
        "2. convertir en DF avec \n",
        "    \"columns = [\"num_sem\",\"gpa\"])\n",
        "\n",
        "3. Visualiser l'ensemble des points dans un nuage de points. \n",
        "    4.1 pensez à distinguer les deux groupes par des marqueurs et des couleurs differents. "
      ]
    },
    {
      "cell_type": "markdown",
      "metadata": {
        "id": "azjK79IvLNQH",
        "colab_type": "text"
      },
      "source": [
        "## Reprise de Jason Liebault"
      ]
    },
    {
      "cell_type": "code",
      "metadata": {
        "id": "KamMowhyBxIE",
        "colab_type": "code",
        "colab": {
          "base_uri": "https://localhost:8080/",
          "height": 505
        },
        "outputId": "e07ecec1-8f10-46e7-a4ff-f8deb0361f54"
      },
      "source": [
        "groupa = [(1,3.2),(2,2.6),(3,3.1),(1,2.6),(3,3.8),(1,1.9),(3,2.0),(1,2.5),(2,3.3),(6,3.1),(3,2.4),(1,2.3),(2,1.8),(2,2.2),(3,2.7),(8,3.0),(7,2.3)] \n",
        "groupb = [(6,1.6),(8,3.4),(8,4.0),(6,1.4),(7,3.9),(9,3.85),(4,3.5),(5,1.1),(2,3.1),(8,2.5),(7,3.0),(6,2.4),(5,2.6),(6,4.0),(5,1.7),(2,1.4),(7,2.4),(7,1.8),(9,3.3),(9,2.6)]\n",
        "\n",
        "dfA = pd.DataFrame(groupa, columns=[\"num_sem\",\"gpa\"])\n",
        "dfB = pd.DataFrame(groupb, columns=[\"num_sem\",\"gpa\"])\n",
        "\n",
        "fig = plt.figure(figsize=(10, 7))\n",
        "\n",
        "ax1 = plt.subplot(1,2,1)\n",
        "ax1.scatter(dfA.num_sem, dfA.gpa, c='DarkRed', label='Groupe A')\n",
        "ax1.set_adjustable('datalim', share=False)\n",
        "\n",
        "ax2 = plt.subplot(1,2,1)\n",
        "ax2.scatter(dfB.num_sem, dfB.gpa, c='DarkBlue', label='Groupe B')\n",
        "ax2.set_adjustable('datalim', share=False)\n",
        "\n",
        "plt.xlabel('NUM SEM g[0]')\n",
        "plt.ylabel('GPA g[1]')\n",
        "\n",
        "plt.legend(scatterpoints=1, frameon=False, bbox_to_anchor=(1.5, .5) , loc=\"right\", title='Etudiants')\n",
        "\n",
        "plt.plot();"
      ],
      "execution_count": 281,
      "outputs": [
        {
          "output_type": "stream",
          "text": [
            "/usr/local/lib/python3.6/dist-packages/ipykernel_launcher.py:13: MatplotlibDeprecationWarning: Adding an axes using the same arguments as a previous axes currently reuses the earlier instance.  In a future version, a new instance will always be created and returned.  Meanwhile, this warning can be suppressed, and the future behavior ensured, by passing a unique label to each axes instance.\n",
            "  del sys.path[0]\n"
          ],
          "name": "stderr"
        },
        {
          "output_type": "display_data",
          "data": {
            "image/png": "[encoded data removed]",
            "text/plain": [
              "<Figure size 720x504 with 1 Axes>"
            ]
          },
          "metadata": {
            "tags": []
          }
        }
      ]
    },
    {
      "cell_type": "markdown",
      "metadata": {
        "id": "2rLUMh9uBxIH",
        "colab_type": "text"
      },
      "source": [
        "Prenons un autre point témoin TestX, TestY = [6],[2.9]\n",
        "visualiser le  graphe avec ce nouveau point\n"
      ]
    },
    {
      "cell_type": "code",
      "metadata": {
        "id": "mXyp2zBYBxIH",
        "colab_type": "code",
        "colab": {
          "base_uri": "https://localhost:8080/",
          "height": 541
        },
        "outputId": "2ea202ff-eb60-44ff-95ad-636308be186f"
      },
      "source": [
        "fig = plt.figure(figsize=(10, 7))\n",
        "\n",
        "fig = plt.figure(figsize=(10, 7))\n",
        "\n",
        "ax1 = plt.subplot(1,2,1)\n",
        "ax1.scatter(dfA.num_sem, dfA.gpa, c='DarkRed', label='Groupe A')\n",
        "ax1.set_adjustable('datalim', share=False)\n",
        "\n",
        "ax2 = plt.subplot(1,2,1)\n",
        "ax2.scatter(dfB.num_sem, dfB.gpa, c='DarkBlue', label='Groupe B')\n",
        "ax2.set_adjustable('datalim', share=False)\n",
        "\n",
        "plt.xlabel('NUM SEM g[0]')\n",
        "plt.ylabel('GPA g[1]')\n",
        "\n",
        "plt.legend(scatterpoints=1, frameon=False, bbox_to_anchor=(1.5, .5) , loc=\"right\", title='Etudiants')\n",
        "\n",
        "temoinX = 6\n",
        "temoinY = 2.9\n",
        "\n",
        "plt.plot(temoinX, temoinY,'ro', c='green', label='Point Témoin')"
      ],
      "execution_count": 282,
      "outputs": [
        {
          "output_type": "stream",
          "text": [
            "/usr/local/lib/python3.6/dist-packages/ipykernel_launcher.py:9: MatplotlibDeprecationWarning: Adding an axes using the same arguments as a previous axes currently reuses the earlier instance.  In a future version, a new instance will always be created and returned.  Meanwhile, this warning can be suppressed, and the future behavior ensured, by passing a unique label to each axes instance.\n",
            "  if __name__ == '__main__':\n"
          ],
          "name": "stderr"
        },
        {
          "output_type": "execute_result",
          "data": {
            "text/plain": [
              "[<matplotlib.lines.Line2D at 0x7f44bacc3358>]"
            ]
          },
          "metadata": {
            "tags": []
          },
          "execution_count": 282
        },
        {
          "output_type": "display_data",
          "data": {
            "text/plain": [
              "<Figure size 720x504 with 0 Axes>"
            ]
          },
          "metadata": {
            "tags": []
          }
        },
        {
          "output_type": "display_data",
          "data": {
            "image/png": "[encoded data removed]",
            "text/plain": [
              "<Figure size 720x504 with 1 Axes>"
            ]
          },
          "metadata": {
            "tags": []
          }
        }
      ]
    },
    {
      "cell_type": "code",
      "metadata": {
        "id": "UTSPHqX2IYiO",
        "colab_type": "code",
        "colab": {}
      },
      "source": [
        ""
      ],
      "execution_count": 0,
      "outputs": []
    },
    {
      "cell_type": "markdown",
      "metadata": {
        "id": "82_cV6mXIsdX",
        "colab_type": "text"
      },
      "source": [
        "## Reprise de Mathieu Ryckmann "
      ]
    },
    {
      "cell_type": "code",
      "metadata": {
        "id": "SE0I-7UPIxfh",
        "colab_type": "code",
        "colab": {
          "base_uri": "https://localhost:8080/",
          "height": 646
        },
        "outputId": "41ec90e1-b18f-47b5-c6f6-bdc3991efdaf"
      },
      "source": [
        "fig = plt.figure(figsize=(10, 5))\n",
        "fig.subplots_adjust(hspace=0.4, wspace=0.4)\n",
        "\n",
        "dfA.plot.scatter(x='num_sem', y='gpa')\n",
        "dfB.plot.scatter(x='num_sem', y='gpa')\n",
        "\n"
      ],
      "execution_count": 306,
      "outputs": [
        {
          "output_type": "stream",
          "text": [
            "'c' argument looks like a single numeric RGB or RGBA sequence, which should be avoided as value-mapping will have precedence in case its length matches with 'x' & 'y'.  Please use a 2-D array with a single row if you really want to specify the same RGB or RGBA value for all points.\n",
            "'c' argument looks like a single numeric RGB or RGBA sequence, which should be avoided as value-mapping will have precedence in case its length matches with 'x' & 'y'.  Please use a 2-D array with a single row if you really want to specify the same RGB or RGBA value for all points.\n"
          ],
          "name": "stderr"
        },
        {
          "output_type": "execute_result",
          "data": {
            "text/plain": [
              "<matplotlib.axes._subplots.AxesSubplot at 0x7f44ba8b6198>"
            ]
          },
          "metadata": {
            "tags": []
          },
          "execution_count": 306
        },
        {
          "output_type": "display_data",
          "data": {
            "text/plain": [
              "<Figure size 720x360 with 0 Axes>"
            ]
          },
          "metadata": {
            "tags": []
          }
        },
        {
          "output_type": "display_data",
          "data": {
            "image/png": "[encoded data removed]",
            "text/plain": [
              "<Figure size 432x288 with 1 Axes>"
            ]
          },
          "metadata": {
            "tags": []
          }
        },
        {
          "output_type": "display_data",
          "data": {
            "image/png": "[encoded data removed]",
            "text/plain": [
              "<Figure size 432x288 with 1 Axes>"
            ]
          },
          "metadata": {
            "tags": []
          }
        }
      ]
    },
    {
      "cell_type": "code",
      "metadata": {
        "id": "tBDdnSmVI956",
        "colab_type": "code",
        "colab": {
          "base_uri": "https://localhost:8080/",
          "height": 303
        },
        "outputId": "c099ee6c-f5ea-493e-cb77-e5f090ff8485"
      },
      "source": [
        "ax = dfA.plot.scatter(x='num_sem', y='gpa', color='DarkBlue', label='Group 1')\n",
        "dfB.plot.scatter(x='num_sem', y='gpa', color='DarkGreen', label='Group 2', ax=ax)"
      ],
      "execution_count": 307,
      "outputs": [
        {
          "output_type": "execute_result",
          "data": {
            "text/plain": [
              "<matplotlib.axes._subplots.AxesSubplot at 0x7f44ba8d5240>"
            ]
          },
          "metadata": {
            "tags": []
          },
          "execution_count": 307
        },
        {
          "output_type": "display_data",
          "data": {
            "image/png": "[encoded data removed]",
            "text/plain": [
              "<Figure size 432x288 with 1 Axes>"
            ]
          },
          "metadata": {
            "tags": []
          }
        }
      ]
    },
    {
      "cell_type": "code",
      "metadata": {
        "id": "K9SaHBHcI7W6",
        "colab_type": "code",
        "colab": {
          "base_uri": "https://localhost:8080/",
          "height": 303
        },
        "outputId": "f10bd668-15a4-4362-8f15-ca75f0965355"
      },
      "source": [
        "groupTemoin = [(6,2.9)]\n",
        "dfT = pd.DataFrame(groupTemoin, columns=[\"num_sem\",\"gpa\"])\n",
        "ax = dfA.plot.scatter(x='num_sem', y='gpa', color='DarkBlue', label='Group 1')\n",
        "dfB.plot.scatter(x='num_sem', y='gpa', color='DarkGreen', label='Group 2', ax=ax)\n",
        "dfT.plot.scatter(x='num_sem', y='gpa', color='yellow', label='Group 3', ax=ax)"
      ],
      "execution_count": 308,
      "outputs": [
        {
          "output_type": "execute_result",
          "data": {
            "text/plain": [
              "<matplotlib.axes._subplots.AxesSubplot at 0x7f44b8f87470>"
            ]
          },
          "metadata": {
            "tags": []
          },
          "execution_count": 308
        },
        {
          "output_type": "display_data",
          "data": {
            "image/png": "[encoded data removed]",
            "text/plain": [
              "<Figure size 432x288 with 1 Axes>"
            ]
          },
          "metadata": {
            "tags": []
          }
        }
      ]
    },
    {
      "cell_type": "code",
      "metadata": {
        "id": "n-_vu13UI2MR",
        "colab_type": "code",
        "colab": {}
      },
      "source": [
        ""
      ],
      "execution_count": 0,
      "outputs": []
    },
    {
      "cell_type": "markdown",
      "metadata": {
        "id": "RB6W9fLdBxIJ",
        "colab_type": "text"
      },
      "source": [
        "<h3> le paramétre k : le nombre de voisins </h3>\n",
        "Désormais nous allons entrainer nore algorithme KNN et voir comment le nombre de k voisins va impacter le résultat"
      ]
    },
    {
      "cell_type": "markdown",
      "metadata": {
        "id": "N4o4as6jLSPn",
        "colab_type": "text"
      },
      "source": [
        "## Reprise de Jason Liebault"
      ]
    },
    {
      "cell_type": "code",
      "metadata": {
        "id": "rArnbnJPBxIK",
        "colab_type": "code",
        "colab": {
          "base_uri": "https://localhost:8080/",
          "height": 363
        },
        "outputId": "9ae83a9a-4cc2-4f0b-c4b3-2c53fb620656"
      },
      "source": [
        "#Chargement des données filchier data.csv sur moodle\n",
        "data = pd.read_csv(\"data.csv\")\n",
        "data.head(10)"
      ],
      "execution_count": 283,
      "outputs": [
        {
          "output_type": "execute_result",
          "data": {
            "text/html": [
              "<div>\n",
              "<style scoped>\n",
              "    .dataframe tbody tr th:only-of-type {\n",
              "        vertical-align: middle;\n",
              "    }\n",
              "\n",
              "    .dataframe tbody tr th {\n",
              "        vertical-align: top;\n",
              "    }\n",
              "\n",
              "    .dataframe thead th {\n",
              "        text-align: right;\n",
              "    }\n",
              "</style>\n",
              "<table border=\"1\" class=\"dataframe\">\n",
              "  <thead>\n",
              "    <tr style=\"text-align: right;\">\n",
              "      <th></th>\n",
              "      <th>State-Year</th>\n",
              "      <th>State Name</th>\n",
              "      <th>State</th>\n",
              "      <th>Year</th>\n",
              "      <th>Award</th>\n",
              "      <th>Population</th>\n",
              "      <th>Has_Facility</th>\n",
              "      <th>Rate</th>\n",
              "      <th>Deaths</th>\n",
              "      <th>Senate</th>\n",
              "      <th>House</th>\n",
              "      <th>Top_Ten</th>\n",
              "      <th>Top_Five</th>\n",
              "      <th>Logged_pop</th>\n",
              "    </tr>\n",
              "  </thead>\n",
              "  <tbody>\n",
              "    <tr>\n",
              "      <th>0</th>\n",
              "      <td>AK_2017</td>\n",
              "      <td>Alaska</td>\n",
              "      <td>AK</td>\n",
              "      <td>2017</td>\n",
              "      <td>0.090561</td>\n",
              "      <td>739786</td>\n",
              "      <td>0</td>\n",
              "      <td>5.6</td>\n",
              "      <td>59</td>\n",
              "      <td>1</td>\n",
              "      <td>0</td>\n",
              "      <td>0</td>\n",
              "      <td>0</td>\n",
              "      <td>13.514116</td>\n",
              "    </tr>\n",
              "    <tr>\n",
              "      <th>1</th>\n",
              "      <td>AL_2017</td>\n",
              "      <td>Alabama</td>\n",
              "      <td>AL</td>\n",
              "      <td>2017</td>\n",
              "      <td>12.687506</td>\n",
              "      <td>4875120</td>\n",
              "      <td>1</td>\n",
              "      <td>7.4</td>\n",
              "      <td>434</td>\n",
              "      <td>0</td>\n",
              "      <td>1</td>\n",
              "      <td>1</td>\n",
              "      <td>1</td>\n",
              "      <td>15.399655</td>\n",
              "    </tr>\n",
              "    <tr>\n",
              "      <th>2</th>\n",
              "      <td>AR_2017</td>\n",
              "      <td>Arkansas</td>\n",
              "      <td>AR</td>\n",
              "      <td>2017</td>\n",
              "      <td>0.012468</td>\n",
              "      <td>3002997</td>\n",
              "      <td>0</td>\n",
              "      <td>8.2</td>\n",
              "      <td>307</td>\n",
              "      <td>0</td>\n",
              "      <td>0</td>\n",
              "      <td>0</td>\n",
              "      <td>0</td>\n",
              "      <td>14.915121</td>\n",
              "    </tr>\n",
              "    <tr>\n",
              "      <th>3</th>\n",
              "      <td>AZ_2017</td>\n",
              "      <td>Arizona</td>\n",
              "      <td>AZ</td>\n",
              "      <td>2017</td>\n",
              "      <td>1.674364</td>\n",
              "      <td>7048876</td>\n",
              "      <td>0</td>\n",
              "      <td>5.7</td>\n",
              "      <td>469</td>\n",
              "      <td>0</td>\n",
              "      <td>1</td>\n",
              "      <td>0</td>\n",
              "      <td>0</td>\n",
              "      <td>15.768379</td>\n",
              "    </tr>\n",
              "    <tr>\n",
              "      <th>4</th>\n",
              "      <td>CA_2017</td>\n",
              "      <td>California</td>\n",
              "      <td>CA</td>\n",
              "      <td>2017</td>\n",
              "      <td>39.838185</td>\n",
              "      <td>39399349</td>\n",
              "      <td>1</td>\n",
              "      <td>4.2</td>\n",
              "      <td>1973</td>\n",
              "      <td>0</td>\n",
              "      <td>4</td>\n",
              "      <td>1</td>\n",
              "      <td>1</td>\n",
              "      <td>17.489260</td>\n",
              "    </tr>\n",
              "    <tr>\n",
              "      <th>5</th>\n",
              "      <td>CO_2017</td>\n",
              "      <td>Colorado</td>\n",
              "      <td>CO</td>\n",
              "      <td>2017</td>\n",
              "      <td>20.872452</td>\n",
              "      <td>5615902</td>\n",
              "      <td>0</td>\n",
              "      <td>4.5</td>\n",
              "      <td>291</td>\n",
              "      <td>1</td>\n",
              "      <td>1</td>\n",
              "      <td>1</td>\n",
              "      <td>1</td>\n",
              "      <td>15.541113</td>\n",
              "    </tr>\n",
              "    <tr>\n",
              "      <th>6</th>\n",
              "      <td>CT_2017</td>\n",
              "      <td>Connecticut</td>\n",
              "      <td>CT</td>\n",
              "      <td>2017</td>\n",
              "      <td>0.671769</td>\n",
              "      <td>3573880</td>\n",
              "      <td>0</td>\n",
              "      <td>4.5</td>\n",
              "      <td>160</td>\n",
              "      <td>0</td>\n",
              "      <td>0</td>\n",
              "      <td>0</td>\n",
              "      <td>0</td>\n",
              "      <td>15.089162</td>\n",
              "    </tr>\n",
              "    <tr>\n",
              "      <th>7</th>\n",
              "      <td>DE_2017</td>\n",
              "      <td>Delaware</td>\n",
              "      <td>DE</td>\n",
              "      <td>2017</td>\n",
              "      <td>0.043762</td>\n",
              "      <td>957078</td>\n",
              "      <td>0</td>\n",
              "      <td>6.6</td>\n",
              "      <td>72</td>\n",
              "      <td>0</td>\n",
              "      <td>0</td>\n",
              "      <td>0</td>\n",
              "      <td>0</td>\n",
              "      <td>13.771640</td>\n",
              "    </tr>\n",
              "    <tr>\n",
              "      <th>8</th>\n",
              "      <td>FL_2017</td>\n",
              "      <td>Florida</td>\n",
              "      <td>FL</td>\n",
              "      <td>2017</td>\n",
              "      <td>12.042859</td>\n",
              "      <td>20976812</td>\n",
              "      <td>1</td>\n",
              "      <td>6.1</td>\n",
              "      <td>1358</td>\n",
              "      <td>1</td>\n",
              "      <td>4</td>\n",
              "      <td>1</td>\n",
              "      <td>0</td>\n",
              "      <td>16.858928</td>\n",
              "    </tr>\n",
              "    <tr>\n",
              "      <th>9</th>\n",
              "      <td>GA_2017</td>\n",
              "      <td>Georgia</td>\n",
              "      <td>GA</td>\n",
              "      <td>2017</td>\n",
              "      <td>0.120873</td>\n",
              "      <td>10413055</td>\n",
              "      <td>0</td>\n",
              "      <td>7.2</td>\n",
              "      <td>932</td>\n",
              "      <td>0</td>\n",
              "      <td>0</td>\n",
              "      <td>0</td>\n",
              "      <td>0</td>\n",
              "      <td>16.158571</td>\n",
              "    </tr>\n",
              "  </tbody>\n",
              "</table>\n",
              "</div>"
            ],
            "text/plain": [
              "  State-Year   State Name State  Year  ...  House  Top_Ten  Top_Five  Logged_pop\n",
              "0    AK_2017       Alaska    AK  2017  ...      0        0         0   13.514116\n",
              "1    AL_2017      Alabama    AL  2017  ...      1        1         1   15.399655\n",
              "2    AR_2017     Arkansas    AR  2017  ...      0        0         0   14.915121\n",
              "3    AZ_2017      Arizona    AZ  2017  ...      1        0         0   15.768379\n",
              "4    CA_2017   California    CA  2017  ...      4        1         1   17.489260\n",
              "5    CO_2017     Colorado    CO  2017  ...      1        1         1   15.541113\n",
              "6    CT_2017  Connecticut    CT  2017  ...      0        0         0   15.089162\n",
              "7    DE_2017     Delaware    DE  2017  ...      0        0         0   13.771640\n",
              "8    FL_2017      Florida    FL  2017  ...      4        1         0   16.858928\n",
              "9    GA_2017      Georgia    GA  2017  ...      0        0         0   16.158571\n",
              "\n",
              "[10 rows x 14 columns]"
            ]
          },
          "metadata": {
            "tags": []
          },
          "execution_count": 283
        }
      ]
    },
    {
      "cell_type": "markdown",
      "metadata": {
        "id": "QyItZAiuBxIM",
        "colab_type": "text"
      },
      "source": [
        "Même réflexe : c'est le moment de découvrir vos données"
      ]
    },
    {
      "cell_type": "markdown",
      "metadata": {
        "id": "59mFUM7dBxIM",
        "colab_type": "text"
      },
      "source": [
        "Maintenant que vous connaissez vos données, nous allons les scinder en parties : \n",
        "soit la fameuse phase Training-Test Split"
      ]
    },
    {
      "cell_type": "code",
      "metadata": {
        "id": "OP9zFd_3BxIN",
        "colab_type": "code",
        "colab": {
          "base_uri": "https://localhost:8080/",
          "height": 1000
        },
        "outputId": "88ccb42a-97d1-480e-c404-26e02ceb183e"
      },
      "source": [
        "# pour vous aider mais c'est à vous de le trouver\n",
        "\n",
        "X = data[[\"Logged_pop\",\"Year\",\"Award\",\"Population\",\"Rate\"]]\n",
        "y = data[[\"Deaths\"]]\n",
        "\n",
        "# penser à inclure dans votre random_state=42 train_test_split\n",
        "# Entrainer vos données avec des porcentages raisonnabel (0.3 pour le test)\n",
        "X_train,X_test,y_train,y_test = train_test_split(X, y, test_size=0.33, random_state=42)\n",
        "X,y, X_train,X_test,y_train,y_test"
      ],
      "execution_count": 284,
      "outputs": [
        {
          "output_type": "execute_result",
          "data": {
            "text/plain": [
              "(    Logged_pop  Year      Award  Population  Rate\n",
              " 0    13.514116  2017   0.090561      739786   5.6\n",
              " 1    15.399655  2017  12.687506     4875120   7.4\n",
              " 2    14.915121  2017   0.012468     3002997   8.2\n",
              " 3    15.768379  2017   1.674364     7048876   5.7\n",
              " 4    17.489260  2017  39.838185    39399349   4.2\n",
              " 5    15.541113  2017  20.872452     5615902   4.5\n",
              " 6    15.089162  2017   0.671769     3573880   4.5\n",
              " 7    13.771640  2017   0.043762      957078   6.6\n",
              " 8    16.858928  2017  12.042859    20976812   6.1\n",
              " 9    16.158571  2017   0.120873    10413055   7.2\n",
              " 10   14.169123  2017   0.129869     1424203   5.3\n",
              " 11   14.960891  2017   0.052461     3143637   5.3\n",
              " 12   14.357197  2017   0.021667     1718904   4.6\n",
              " 13   16.363877  2017   0.140339    12786196   6.1\n",
              " 14   15.711642  2017   2.485588     6660082   7.3\n",
              " 15   14.883900  2017   0.028193     2910689   6.1\n",
              " 16   15.309285  2017   0.025892     4453874   6.5\n",
              " 17   15.356845  2017   0.587347     4670818   7.1\n",
              " 18   15.741691  2017   1.851781     6863246   3.7\n",
              " 19   15.611410  2017  25.962892     6024891   6.4\n",
              " 20   14.104489  2017   0.031299     1335063   5.7\n",
              " 21   16.115738  2017   0.274649     9976447   6.8\n",
              " 22   15.532574  2017   0.058437     5568155   4.8\n",
              " 23   15.625210  2017   0.167061     6108612   6.2\n",
              " 24   14.910671  2017   3.830654     2989663   8.6\n",
              " 25   13.867239  2017   0.042931     1053090   5.4\n",
              " 26   16.144815  2017   0.071141    10270800   7.1\n",
              " 27   13.534706  2017   0.011214      755176   4.3\n",
              " 28   14.466572  2017   0.017594     1917575   5.6\n",
              " 29   14.115443  2017   0.143912     1349767   4.2\n",
              " 30   16.000274  2017   0.092853     8888543   4.5\n",
              " 31   14.554298  2017   0.746131     2093395   5.9\n",
              " 32   14.904882  2017   0.054170     2972405   5.8\n",
              " 33   16.790566  2017   0.490862    19590719   4.6\n",
              " 34   16.272029  2017   1.739498    11664129   7.2\n",
              " 35   15.184822  2017   0.245157     3932640   7.7\n",
              " 36   15.237797  2017   0.071973     4146592   5.4\n",
              " 37   16.364209  2017   0.241014    12790447   6.1\n",
              " 38   13.870459  2017   0.025887     1056486   6.2\n",
              " 39   15.429183  2017   0.035032     5021219   6.5\n",
              " 40   13.680018  2017   0.028776      873286   7.7\n",
              " 41   15.718930  2017   0.054311     6708794   7.4\n",
              " 42   17.159175  2017  56.730024    28322717   5.9\n",
              " 43   14.947918  2017   4.055909     3103118   5.9\n",
              " 44   15.951475  2017   6.386579     8465207   5.9\n",
              " 45   13.344747  2017   0.012143      624525   4.8\n",
              " 46   15.820421  2017   0.333721     7425432   3.9\n",
              " 47   15.571997  2017   0.097545     5792051   6.4\n",
              " 48   14.412724  2017   0.400546     1817048   7.0\n",
              " 49   13.268944  2017   0.010781      578934   4.6,     Deaths\n",
              " 0       59\n",
              " 1      434\n",
              " 2      307\n",
              " 3      469\n",
              " 4     1973\n",
              " 5      291\n",
              " 6      160\n",
              " 7       72\n",
              " 8     1358\n",
              " 9      932\n",
              " 10      92\n",
              " 11     203\n",
              " 12     102\n",
              " 13     912\n",
              " 14     600\n",
              " 15     221\n",
              " 16     355\n",
              " 17     431\n",
              " 18     262\n",
              " 19     460\n",
              " 20      70\n",
              " 21     755\n",
              " 22     328\n",
              " 23     456\n",
              " 24     322\n",
              " 25      64\n",
              " 26     847\n",
              " 27      46\n",
              " 28     144\n",
              " 29      51\n",
              " 30     453\n",
              " 31     140\n",
              " 32     208\n",
              " 33    1047\n",
              " 34     983\n",
              " 35     387\n",
              " 36     236\n",
              " 37     841\n",
              " 38      66\n",
              " 39     371\n",
              " 40      94\n",
              " 41     597\n",
              " 42    2237\n",
              " 43     285\n",
              " 44     592\n",
              " 45      27\n",
              " 46     341\n",
              " 47     414\n",
              " 48     131\n",
              " 49      32,     Logged_pop  Year      Award  Population  Rate\n",
              " 46   15.820421  2017   0.333721     7425432   3.9\n",
              " 47   15.571997  2017   0.097545     5792051   6.4\n",
              " 15   14.883900  2017   0.028193     2910689   6.1\n",
              " 9    16.158571  2017   0.120873    10413055   7.2\n",
              " 16   15.309285  2017   0.025892     4453874   6.5\n",
              " 24   14.910671  2017   3.830654     2989663   8.6\n",
              " 34   16.272029  2017   1.739498    11664129   7.2\n",
              " 31   14.554298  2017   0.746131     2093395   5.9\n",
              " 0    13.514116  2017   0.090561      739786   5.6\n",
              " 44   15.951475  2017   6.386579     8465207   5.9\n",
              " 27   13.534706  2017   0.011214      755176   4.3\n",
              " 33   16.790566  2017   0.490862    19590719   4.6\n",
              " 5    15.541113  2017  20.872452     5615902   4.5\n",
              " 29   14.115443  2017   0.143912     1349767   4.2\n",
              " 11   14.960891  2017   0.052461     3143637   5.3\n",
              " 36   15.237797  2017   0.071973     4146592   5.4\n",
              " 1    15.399655  2017  12.687506     4875120   7.4\n",
              " 21   16.115738  2017   0.274649     9976447   6.8\n",
              " 2    14.915121  2017   0.012468     3002997   8.2\n",
              " 43   14.947918  2017   4.055909     3103118   5.9\n",
              " 35   15.184822  2017   0.245157     3932640   7.7\n",
              " 23   15.625210  2017   0.167061     6108612   6.2\n",
              " 40   13.680018  2017   0.028776      873286   7.7\n",
              " 10   14.169123  2017   0.129869     1424203   5.3\n",
              " 22   15.532574  2017   0.058437     5568155   4.8\n",
              " 18   15.741691  2017   1.851781     6863246   3.7\n",
              " 49   13.268944  2017   0.010781      578934   4.6\n",
              " 20   14.104489  2017   0.031299     1335063   5.7\n",
              " 7    13.771640  2017   0.043762      957078   6.6\n",
              " 42   17.159175  2017  56.730024    28322717   5.9\n",
              " 14   15.711642  2017   2.485588     6660082   7.3\n",
              " 28   14.466572  2017   0.017594     1917575   5.6\n",
              " 38   13.870459  2017   0.025887     1056486   6.2,     Logged_pop  Year      Award  Population  Rate\n",
              " 13   16.363877  2017   0.140339    12786196   6.1\n",
              " 39   15.429183  2017   0.035032     5021219   6.5\n",
              " 30   16.000274  2017   0.092853     8888543   4.5\n",
              " 45   13.344747  2017   0.012143      624525   4.8\n",
              " 17   15.356845  2017   0.587347     4670818   7.1\n",
              " 48   14.412724  2017   0.400546     1817048   7.0\n",
              " 26   16.144815  2017   0.071141    10270800   7.1\n",
              " 25   13.867239  2017   0.042931     1053090   5.4\n",
              " 32   14.904882  2017   0.054170     2972405   5.8\n",
              " 19   15.611410  2017  25.962892     6024891   6.4\n",
              " 12   14.357197  2017   0.021667     1718904   4.6\n",
              " 4    17.489260  2017  39.838185    39399349   4.2\n",
              " 37   16.364209  2017   0.241014    12790447   6.1\n",
              " 8    16.858928  2017  12.042859    20976812   6.1\n",
              " 3    15.768379  2017   1.674364     7048876   5.7\n",
              " 6    15.089162  2017   0.671769     3573880   4.5\n",
              " 41   15.718930  2017   0.054311     6708794   7.4,     Deaths\n",
              " 46     341\n",
              " 47     414\n",
              " 15     221\n",
              " 9      932\n",
              " 16     355\n",
              " 24     322\n",
              " 34     983\n",
              " 31     140\n",
              " 0       59\n",
              " 44     592\n",
              " 27      46\n",
              " 33    1047\n",
              " 5      291\n",
              " 29      51\n",
              " 11     203\n",
              " 36     236\n",
              " 1      434\n",
              " 21     755\n",
              " 2      307\n",
              " 43     285\n",
              " 35     387\n",
              " 23     456\n",
              " 40      94\n",
              " 10      92\n",
              " 22     328\n",
              " 18     262\n",
              " 49      32\n",
              " 20      70\n",
              " 7       72\n",
              " 42    2237\n",
              " 14     600\n",
              " 28     144\n",
              " 38      66,     Deaths\n",
              " 13     912\n",
              " 39     371\n",
              " 30     453\n",
              " 45      27\n",
              " 17     431\n",
              " 48     131\n",
              " 26     847\n",
              " 25      64\n",
              " 32     208\n",
              " 19     460\n",
              " 12     102\n",
              " 4     1973\n",
              " 37     841\n",
              " 8     1358\n",
              " 3      469\n",
              " 6      160\n",
              " 41     597)"
            ]
          },
          "metadata": {
            "tags": []
          },
          "execution_count": 284
        }
      ]
    },
    {
      "cell_type": "markdown",
      "metadata": {
        "id": "kZfvBefjBxIQ",
        "colab_type": "text"
      },
      "source": [
        "Appelons et enrainons KNN sur notre jeu de données \n",
        "penser à KNeighborsClassifier() et fit()\n",
        "\n",
        "Appliquez KNN avec k=1\n"
      ]
    },
    {
      "cell_type": "code",
      "metadata": {
        "id": "ONRoH_HRBxIS",
        "colab_type": "code",
        "colab": {
          "base_uri": "https://localhost:8080/",
          "height": 90
        },
        "outputId": "02ee30d7-dbef-45c1-e1f8-6f82e2d71283"
      },
      "source": [
        "clf = KNeighborsClassifier(n_neighbors=1)\n",
        "clf.fit(X_test, y_test)\n",
        "y_pred = clf.predict(X_test)\n",
        "acc = accuracy_score(y_true=y_test, y_pred=y_pred)\n",
        "acc, y_pred"
      ],
      "execution_count": 285,
      "outputs": [
        {
          "output_type": "stream",
          "text": [
            "/usr/local/lib/python3.6/dist-packages/ipykernel_launcher.py:2: DataConversionWarning: A column-vector y was passed when a 1d array was expected. Please change the shape of y to (n_samples, ), for example using ravel().\n",
            "  \n"
          ],
          "name": "stderr"
        },
        {
          "output_type": "execute_result",
          "data": {
            "text/plain": [
              "(1.0, array([ 912,  371,  453,   27,  431,  131,  847,   64,  208,  460,  102,\n",
              "        1973,  841, 1358,  469,  160,  597]))"
            ]
          },
          "metadata": {
            "tags": []
          },
          "execution_count": 285
        }
      ]
    },
    {
      "cell_type": "markdown",
      "metadata": {
        "id": "bdYa-IObBxIU",
        "colab_type": "text"
      },
      "source": [
        "Tout au long, nous allons avaluer le score (accuracy score) de KNN pour chaque valeur de K\n",
        "\n",
        "https://scikit-learn.org/stable/modules/generated/sklearn.metrics.accuracy_score.html  accuracy score\n",
        "\n",
        "Calculer le socre : \n",
        "pour info score : y_test/y_predit"
      ]
    },
    {
      "cell_type": "markdown",
      "metadata": {
        "id": "GUksQCpfBxIZ",
        "colab_type": "text"
      },
      "source": [
        "Appliquez KNN avec k=4\n",
        "Et Calculer le nouveau score"
      ]
    },
    {
      "cell_type": "code",
      "metadata": {
        "id": "_b59sGudBxIZ",
        "colab_type": "code",
        "colab": {
          "base_uri": "https://localhost:8080/",
          "height": 90
        },
        "outputId": "1c7d4af2-d9f1-4454-8263-a05db71e3f85"
      },
      "source": [
        "clf = KNeighborsClassifier(n_neighbors=4)\n",
        "clf.fit(X_test, y_test)\n",
        "y_pred = clf.predict(X_test)\n",
        "acc = accuracy_score(y_true=y_test, y_pred=y_pred)\n",
        "acc, y_pred, clf.score(X_test, y_test), err_test"
      ],
      "execution_count": 301,
      "outputs": [
        {
          "output_type": "execute_result",
          "data": {
            "text/plain": [
              "(0.8666666666666667,\n",
              " array([0, 0, 0, 0, 0, 0, 0, 0, 0, 0, 0, 0, 0, 0, 0]),\n",
              " 0.8666666666666667,\n",
              " 318.5882352941176)"
            ]
          },
          "metadata": {
            "tags": []
          },
          "execution_count": 301
        }
      ]
    },
    {
      "cell_type": "markdown",
      "metadata": {
        "id": "EgF7S_HT_HN7",
        "colab_type": "text"
      },
      "source": [
        "Développer une équantion pour évaluer K allant de 1 à 20"
      ]
    },
    {
      "cell_type": "code",
      "metadata": {
        "id": "RzUEzKRsBxIg",
        "colab_type": "code",
        "colab": {
          "base_uri": "https://localhost:8080/",
          "height": 1000
        },
        "outputId": "cf7121f2-0c9e-4aac-aa95-f113313baa3f"
      },
      "source": [
        "def evaluateK():\n",
        "  iterations = range(20)\n",
        "  accList = np.zeros(len(iterations))\n",
        "  y_predList = np.zeros((len(iterations), X_train.Year.count()))\n",
        "\n",
        "  for i in iterations:\n",
        "    clf = KNeighborsClassifier(n_neighbors=(i+1))\n",
        "    clf.fit(X_train, y_train)\n",
        "    y_pred = clf.predict(X_train)\n",
        "    acc = accuracy_score(y_true=y_train, y_pred=y_pred)\n",
        "    accList[i] = acc\n",
        "    y_predList[i,:] = y_pred\n",
        "  return accList, y_predList\n",
        "\n",
        "accList, y_predList = evaluateK()\n",
        "accList, y_predList"
      ],
      "execution_count": 287,
      "outputs": [
        {
          "output_type": "stream",
          "text": [
            "/usr/local/lib/python3.6/dist-packages/ipykernel_launcher.py:8: DataConversionWarning: A column-vector y was passed when a 1d array was expected. Please change the shape of y to (n_samples, ), for example using ravel().\n",
            "  \n",
            "/usr/local/lib/python3.6/dist-packages/ipykernel_launcher.py:8: DataConversionWarning: A column-vector y was passed when a 1d array was expected. Please change the shape of y to (n_samples, ), for example using ravel().\n",
            "  \n",
            "/usr/local/lib/python3.6/dist-packages/ipykernel_launcher.py:8: DataConversionWarning: A column-vector y was passed when a 1d array was expected. Please change the shape of y to (n_samples, ), for example using ravel().\n",
            "  \n",
            "/usr/local/lib/python3.6/dist-packages/ipykernel_launcher.py:8: DataConversionWarning: A column-vector y was passed when a 1d array was expected. Please change the shape of y to (n_samples, ), for example using ravel().\n",
            "  \n",
            "/usr/local/lib/python3.6/dist-packages/ipykernel_launcher.py:8: DataConversionWarning: A column-vector y was passed when a 1d array was expected. Please change the shape of y to (n_samples, ), for example using ravel().\n",
            "  \n",
            "/usr/local/lib/python3.6/dist-packages/ipykernel_launcher.py:8: DataConversionWarning: A column-vector y was passed when a 1d array was expected. Please change the shape of y to (n_samples, ), for example using ravel().\n",
            "  \n",
            "/usr/local/lib/python3.6/dist-packages/ipykernel_launcher.py:8: DataConversionWarning: A column-vector y was passed when a 1d array was expected. Please change the shape of y to (n_samples, ), for example using ravel().\n",
            "  \n",
            "/usr/local/lib/python3.6/dist-packages/ipykernel_launcher.py:8: DataConversionWarning: A column-vector y was passed when a 1d array was expected. Please change the shape of y to (n_samples, ), for example using ravel().\n",
            "  \n",
            "/usr/local/lib/python3.6/dist-packages/ipykernel_launcher.py:8: DataConversionWarning: A column-vector y was passed when a 1d array was expected. Please change the shape of y to (n_samples, ), for example using ravel().\n",
            "  \n",
            "/usr/local/lib/python3.6/dist-packages/ipykernel_launcher.py:8: DataConversionWarning: A column-vector y was passed when a 1d array was expected. Please change the shape of y to (n_samples, ), for example using ravel().\n",
            "  \n",
            "/usr/local/lib/python3.6/dist-packages/ipykernel_launcher.py:8: DataConversionWarning: A column-vector y was passed when a 1d array was expected. Please change the shape of y to (n_samples, ), for example using ravel().\n",
            "  \n",
            "/usr/local/lib/python3.6/dist-packages/ipykernel_launcher.py:8: DataConversionWarning: A column-vector y was passed when a 1d array was expected. Please change the shape of y to (n_samples, ), for example using ravel().\n",
            "  \n",
            "/usr/local/lib/python3.6/dist-packages/ipykernel_launcher.py:8: DataConversionWarning: A column-vector y was passed when a 1d array was expected. Please change the shape of y to (n_samples, ), for example using ravel().\n",
            "  \n",
            "/usr/local/lib/python3.6/dist-packages/ipykernel_launcher.py:8: DataConversionWarning: A column-vector y was passed when a 1d array was expected. Please change the shape of y to (n_samples, ), for example using ravel().\n",
            "  \n",
            "/usr/local/lib/python3.6/dist-packages/ipykernel_launcher.py:8: DataConversionWarning: A column-vector y was passed when a 1d array was expected. Please change the shape of y to (n_samples, ), for example using ravel().\n",
            "  \n",
            "/usr/local/lib/python3.6/dist-packages/ipykernel_launcher.py:8: DataConversionWarning: A column-vector y was passed when a 1d array was expected. Please change the shape of y to (n_samples, ), for example using ravel().\n",
            "  \n",
            "/usr/local/lib/python3.6/dist-packages/ipykernel_launcher.py:8: DataConversionWarning: A column-vector y was passed when a 1d array was expected. Please change the shape of y to (n_samples, ), for example using ravel().\n",
            "  \n",
            "/usr/local/lib/python3.6/dist-packages/ipykernel_launcher.py:8: DataConversionWarning: A column-vector y was passed when a 1d array was expected. Please change the shape of y to (n_samples, ), for example using ravel().\n",
            "  \n",
            "/usr/local/lib/python3.6/dist-packages/ipykernel_launcher.py:8: DataConversionWarning: A column-vector y was passed when a 1d array was expected. Please change the shape of y to (n_samples, ), for example using ravel().\n",
            "  \n",
            "/usr/local/lib/python3.6/dist-packages/ipykernel_launcher.py:8: DataConversionWarning: A column-vector y was passed when a 1d array was expected. Please change the shape of y to (n_samples, ), for example using ravel().\n",
            "  \n"
          ],
          "name": "stderr"
        },
        {
          "output_type": "execute_result",
          "data": {
            "text/plain": [
              "(array([1.        , 0.39393939, 0.27272727, 0.24242424, 0.15151515,\n",
              "        0.15151515, 0.15151515, 0.06060606, 0.06060606, 0.06060606,\n",
              "        0.03030303, 0.03030303, 0.03030303, 0.03030303, 0.03030303,\n",
              "        0.03030303, 0.03030303, 0.03030303, 0.03030303, 0.03030303]),\n",
              " array([[ 341.,  414.,  221.,  932.,  355.,  322.,  983.,  140.,   59.,\n",
              "          592.,   46., 1047.,  291.,   51.,  203.,  236.,  434.,  755.,\n",
              "          307.,  285.,  387.,  456.,   94.,   92.,  328.,  262.,   32.,\n",
              "           70.,   72., 2237.,  600.,  144.,   66.],\n",
              "        [ 262.,  291.,  221.,  755.,  236.,  307.,  932.,  140.,   46.,\n",
              "          341.,   46.,  983.,  291.,   51.,  203.,  236.,  355.,  755.,\n",
              "          307.,  203.,  236.,  414.,   72.,   51.,  291.,  262.,   32.,\n",
              "           51.,   72., 1047.,  262.,  140.,   66.],\n",
              "        [ 262.,  291.,  221.,  755.,  236.,  221.,  755.,   92.,   46.,\n",
              "          341.,   46.,  983.,  291.,   51.,  203.,  236.,  328.,  592.,\n",
              "          221.,  203.,  236.,  291.,   46.,   51.,  291.,  262.,   32.,\n",
              "           51.,   66.,  983.,  262.,   92.,   66.],\n",
              "        [ 262.,  291.,  221.,  592.,  236.,  221.,  592.,   51.,   32.,\n",
              "          262.,   32.,  932.,  291.,   51.,  203.,  236.,  236.,  592.,\n",
              "          221.,  203.,  203.,  291.,   46.,   51.,  291.,  262.,   32.,\n",
              "           51.,   46.,  932.,  262.,   51.,   66.],\n",
              "        [ 262.,  291.,  203.,  341.,  236.,  203.,  341.,   51.,   32.,\n",
              "          262.,   32.,  755.,  291.,   51.,  203.,  203.,  236.,  341.,\n",
              "          203.,  203.,  203.,  291.,   46.,   51.,  291.,  262.,   32.,\n",
              "           51.,   46.,  755.,  262.,   51.,   51.],\n",
              "        [ 262.,  291.,  140.,  262.,  236.,  140.,  262.,   51.,   32.,\n",
              "          262.,   32.,  592.,  291.,   51.,  203.,  203.,  236.,  262.,\n",
              "          140.,  203.,  203.,  262.,   32.,   51.,  291.,  262.,   32.,\n",
              "           51.,   46.,  592.,  262.,   51.,   46.],\n",
              "        [ 262.,  262.,  140.,  262.,  203.,  140.,  262.,   51.,   32.,\n",
              "          262.,   32.,  341.,  291.,   51.,  203.,  203.,  236.,  262.,\n",
              "          140.,  140.,  203.,  262.,   32.,   51.,  291.,  262.,   32.,\n",
              "           46.,   32.,  341.,  262.,   51.,   46.],\n",
              "        [ 262.,  262.,  140.,  262.,  203.,  140.,  262.,   51.,   32.,\n",
              "          262.,   32.,  262.,  262.,   46.,  140.,  203.,  236.,  262.,\n",
              "          140.,  140.,  203.,  262.,   32.,   46.,  262.,  262.,   32.,\n",
              "           46.,   32.,  262.,  262.,   51.,   46.],\n",
              "        [ 262.,  262.,  140.,  262.,  203.,  140.,  262.,   51.,   32.,\n",
              "          262.,   32.,  262.,  236.,   46.,  140.,  203.,  203.,  262.,\n",
              "          140.,  140.,  203.,  262.,   32.,   46.,  236.,  262.,   32.,\n",
              "           46.,   32.,  262.,  262.,   51.,   32.],\n",
              "        [ 262.,  236.,   92.,  262.,  203.,  140.,  262.,   51.,   32.,\n",
              "          262.,   32.,  262.,  236.,   46.,  140.,  203.,  203.,  262.,\n",
              "          140.,  140.,  203.,  236.,   32.,   46.,  236.,  262.,   32.,\n",
              "           32.,   32.,  262.,  262.,   51.,   32.],\n",
              "        [ 262.,  236.,   92.,  262.,  203.,   92.,  262.,   51.,   32.,\n",
              "          262.,   32.,  262.,  236.,   32.,   92.,  203.,  203.,  262.,\n",
              "           92.,   92.,  203.,  236.,   32.,   32.,  236.,  236.,   32.,\n",
              "           32.,   32.,  262.,  236.,   51.,   32.],\n",
              "        [ 262.,  203.,   51.,  262.,  203.,   51.,  262.,   51.,   32.,\n",
              "          262.,   32.,  262.,  203.,   32.,   92.,  203.,  203.,  262.,\n",
              "           51.,   51.,  140.,  236.,   32.,   32.,  203.,  236.,   32.,\n",
              "           32.,   32.,  262.,  236.,   46.,   32.],\n",
              "        [ 236.,  203.,   51.,  262.,  203.,   51.,  262.,   51.,   32.,\n",
              "          262.,   32.,  262.,  203.,   32.,   51.,  203.,  203.,  262.,\n",
              "           51.,   51.,  140.,  203.,   32.,   32.,  203.,  236.,   32.,\n",
              "           32.,   32.,  262.,  236.,   46.,   32.],\n",
              "        [ 236.,  203.,   51.,  236.,  203.,   51.,  236.,   46.,   32.,\n",
              "          236.,   32.,  262.,  203.,   32.,   51.,  140.,  203.,  236.,\n",
              "           51.,   51.,  140.,  203.,   32.,   32.,  203.,  236.,   32.,\n",
              "           32.,   32.,  262.,  203.,   46.,   32.],\n",
              "        [ 236.,  203.,   51.,  236.,  140.,   51.,  236.,   46.,   32.,\n",
              "          236.,   32.,  262.,  203.,   32.,   51.,  140.,  203.,  236.,\n",
              "           51.,   51.,  140.,  203.,   32.,   32.,  203.,  203.,   32.,\n",
              "           32.,   32.,  262.,  203.,   46.,   32.],\n",
              "        [ 203.,  203.,   51.,  203.,  140.,   51.,  236.,   32.,   32.,\n",
              "          203.,   32.,  236.,  203.,   32.,   51.,  140.,  203.,  203.,\n",
              "           51.,   51.,   92.,  203.,   32.,   32.,  203.,  203.,   32.,\n",
              "           32.,   32.,  236.,  203.,   32.,   32.],\n",
              "        [ 203.,  203.,   51.,  203.,  140.,   51.,  203.,   32.,   32.,\n",
              "          203.,   32.,  236.,  203.,   32.,   51.,  140.,  140.,  203.,\n",
              "           51.,   51.,   51.,  203.,   32.,   32.,  203.,  203.,   32.,\n",
              "           32.,   32.,  236.,  203.,   32.,   32.],\n",
              "        [ 203.,  140.,   46.,  203.,  140.,   46.,  203.,   32.,   32.,\n",
              "          203.,   32.,  203.,  140.,   32.,   46.,   92.,  140.,  203.,\n",
              "           46.,   46.,   51.,  203.,   32.,   32.,  140.,  203.,   32.,\n",
              "           32.,   32.,  203.,  203.,   32.,   32.],\n",
              "        [ 203.,  140.,   46.,  203.,   92.,   46.,  203.,   32.,   32.,\n",
              "          203.,   32.,  203.,  140.,   32.,   46.,   51.,   92.,  203.,\n",
              "           46.,   46.,   51.,  140.,   32.,   32.,  140.,  203.,   32.,\n",
              "           32.,   32.,  203.,  203.,   32.,   32.],\n",
              "        [ 203.,  140.,   32.,  203.,   51.,   32.,  203.,   32.,   32.,\n",
              "          203.,   32.,  203.,   92.,   32.,   46.,   51.,   51.,  203.,\n",
              "           32.,   46.,   51.,  140.,   32.,   32.,   92.,  140.,   32.,\n",
              "           32.,   32.,  203.,  140.,   32.,   32.]]))"
            ]
          },
          "metadata": {
            "tags": []
          },
          "execution_count": 287
        }
      ]
    },
    {
      "cell_type": "markdown",
      "metadata": {
        "id": "Rq3cu3B8-77E",
        "colab_type": "text"
      },
      "source": [
        "Développer une fonction qui afficher dans un graphe le score en fonction de K"
      ]
    },
    {
      "cell_type": "code",
      "metadata": {
        "id": "7WsZZkJOBxIm",
        "colab_type": "code",
        "colab": {
          "base_uri": "https://localhost:8080/",
          "height": 303
        },
        "outputId": "0f968cae-9662-4ee7-878e-e8876cd3436e"
      },
      "source": [
        "def plotKIterationResults():\n",
        "  iterations = range(accList.shape[0])\n",
        "  ax = plt.subplot(1,2,1)\n",
        "  for i in iterations:\n",
        "    ax.scatter(i, accList[i], c='DarkRed')\n",
        "    ax.set_adjustable('datalim', share=False)\n",
        "\n",
        "  plt.xlabel('iteration')\n",
        "  plt.ylabel('Score')\n",
        "\n",
        "  plt.legend(scatterpoints=1, frameon=False, bbox_to_anchor=(1.5, .5) , loc=\"right\", title='KNeighborsClassifier from 0 to 20')\n",
        "  plt.plot()\n",
        "\n",
        "\n",
        "plotKIterationResults()"
      ],
      "execution_count": 288,
      "outputs": [
        {
          "output_type": "stream",
          "text": [
            "No handles with labels found to put in legend.\n"
          ],
          "name": "stderr"
        },
        {
          "output_type": "display_data",
          "data": {
            "image/png": "[encoded data removed]",
            "text/plain": [
              "<Figure size 432x288 with 1 Axes>"
            ]
          },
          "metadata": {
            "tags": []
          }
        }
      ]
    },
    {
      "cell_type": "markdown",
      "metadata": {
        "colab_type": "text",
        "id": "JfE8OQ94DLBE"
      },
      "source": [
        "Quel est la meilleure valeur de K pour votre modèle ?\n",
        "\n",
        "Selon mon modèle ma meilleure valeur de K est 0.03030303 obtenu à partir de 10 itérations"
      ]
    },
    {
      "cell_type": "markdown",
      "metadata": {
        "id": "f_xNEa6ABpSt",
        "colab_type": "text"
      },
      "source": [
        "## Reprise de Mathieu Ryckmann de l'exercice 2 avec d'autres colonnes\n",
        "\n"
      ]
    },
    {
      "cell_type": "code",
      "metadata": {
        "id": "0UxROq2YBx73",
        "colab_type": "code",
        "colab": {}
      },
      "source": [
        "# pour vous aider mais c'est à vous de le trouver\n",
        "\n",
        "X = data[[\"Logged_pop\",\"Rate\",\"Deaths\",\"Top_Ten\",\"Has_Facility\"]]\n",
        "y = data[\"Senate\"]\n",
        "\n",
        "# penser à inclure dans votre random_state=42 train_test_split\n",
        "# Entrainer vos données avec des porcentages raisonnabel (0.3 pour le test)\n",
        "X_train,X_test,y_train,y_test = train_test_split(X, y, test_size=0.3, random_state=42)"
      ],
      "execution_count": 0,
      "outputs": []
    },
    {
      "cell_type": "code",
      "metadata": {
        "id": "bOh17gzSB6bv",
        "colab_type": "code",
        "colab": {}
      },
      "source": [
        "knn=KNeighborsClassifier(n_neighbors=1)\n",
        "knn.fit(X_train, y_train)\n",
        "pred_test=knn.predict(X_test)"
      ],
      "execution_count": 0,
      "outputs": []
    },
    {
      "cell_type": "code",
      "metadata": {
        "id": "SovfbN7AChgv",
        "colab_type": "code",
        "colab": {
          "base_uri": "https://localhost:8080/",
          "height": 35
        },
        "outputId": "7840ac4c-6921-4b87-e994-40151f1386a6"
      },
      "source": [
        "err_test1=np.sum(y_test != pred_test)/len(y_test)\n",
        "knn.score(X_test, y_test)"
      ],
      "execution_count": 294,
      "outputs": [
        {
          "output_type": "execute_result",
          "data": {
            "text/plain": [
              "0.7333333333333333"
            ]
          },
          "metadata": {
            "tags": []
          },
          "execution_count": 294
        }
      ]
    },
    {
      "cell_type": "code",
      "metadata": {
        "id": "p-Y5JkMMCjVn",
        "colab_type": "code",
        "colab": {
          "base_uri": "https://localhost:8080/",
          "height": 384
        },
        "outputId": "cc34209b-4e0e-4081-92a2-7891749c9215"
      },
      "source": [
        "def evaluateKInRange():\n",
        "  for i in range(1,21) :\n",
        "    knn=KNeighborsClassifier(n_neighbors=i)\n",
        "    knn.fit(X_train, y_train)\n",
        "    pred_test=knn.predict(X_test)\n",
        "    err_test1=np.sum(y_test != pred_test)/len(y_test)\n",
        "    print(\"k =\",i , \"score =\" ,knn.score(X_test, y_test))\n",
        "\n",
        "evaluateKInRange()"
      ],
      "execution_count": 296,
      "outputs": [
        {
          "output_type": "stream",
          "text": [
            "k = 1 score = 0.7333333333333333\n",
            "k = 2 score = 0.8\n",
            "k = 3 score = 0.8\n",
            "k = 4 score = 0.8666666666666667\n",
            "k = 5 score = 0.9333333333333333\n",
            "k = 6 score = 0.8666666666666667\n",
            "k = 7 score = 0.8666666666666667\n",
            "k = 8 score = 0.8666666666666667\n",
            "k = 9 score = 0.7333333333333333\n",
            "k = 10 score = 0.8666666666666667\n",
            "k = 11 score = 0.8\n",
            "k = 12 score = 0.8666666666666667\n",
            "k = 13 score = 0.8\n",
            "k = 14 score = 0.8666666666666667\n",
            "k = 15 score = 0.8666666666666667\n",
            "k = 16 score = 0.8666666666666667\n",
            "k = 17 score = 0.8666666666666667\n",
            "k = 18 score = 0.8666666666666667\n",
            "k = 19 score = 0.8666666666666667\n",
            "k = 20 score = 0.8666666666666667\n"
          ],
          "name": "stdout"
        }
      ]
    },
    {
      "cell_type": "code",
      "metadata": {
        "id": "YM4WyYzvCwSA",
        "colab_type": "code",
        "colab": {
          "base_uri": "https://localhost:8080/",
          "height": 268
        },
        "outputId": "5af57b8f-563b-451f-fa15-7245e15fa4cb"
      },
      "source": [
        "def plotEvaluation():\n",
        "  for i in range(1,21) :\n",
        "    knn=KNeighborsClassifier(n_neighbors=i)\n",
        "    knn.fit(X_train, y_train)\n",
        "    pred_test=knn.predict(X_test)\n",
        "    err_test1=np.sum(y_test != pred_test)/len(y_test)\n",
        "    temoinX = i\n",
        "    temoinY = knn.score(X_test, y_test)\n",
        "    plt.plot(temoinX, temoinY,'ro')\n",
        "\n",
        "plotEvaluation()"
      ],
      "execution_count": 300,
      "outputs": [
        {
          "output_type": "display_data",
          "data": {
            "image/png": "[encoded data removed]",
            "text/plain": [
              "<Figure size 432x288 with 1 Axes>"
            ]
          },
          "metadata": {
            "tags": []
          }
        }
      ]
    },
    {
      "cell_type": "markdown",
      "metadata": {
        "id": "oY9wad-J-q_T",
        "colab_type": "text"
      },
      "source": [
        "Quel est la meilleure valeur de K pour votre modèle ?\n",
        "\n",
        "A l'interation 5 on a un score = 0.9333333333333333\n"
      ]
    }
  ]
}